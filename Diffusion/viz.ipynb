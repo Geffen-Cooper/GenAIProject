{
 "cells": [
  {
   "cell_type": "code",
   "execution_count": 75,
   "metadata": {},
   "outputs": [],
   "source": [
    "from denoising_diffusion_pytorch import Unet1D, GaussianDiffusion1D, Trainer1D, Dataset1D\n",
    "import sys\n",
    "sys.path.append(\"../\")\n",
    "from param_dataset import *\n",
    "\n",
    "model = Unet1D(\n",
    "        dim = 64,\n",
    "        dim_mults = (1, 2, 4, 8),\n",
    "        channels = 16\n",
    "    )\n",
    "\n",
    "diffusion = GaussianDiffusion1D(\n",
    "    model,\n",
    "    seq_length = 80,\n",
    "    timesteps = 1000,\n",
    "    objective = 'pred_noise',\n",
    "    auto_normalize=False\n",
    ")\n",
    "\n",
    "root_path = os.path.expanduser(f\"~/Projects/GenAIProject/saved_data/checkpoints/gen_last_bn_eval_diverse/frost\")\n",
    "dataset = ParamDataset(root_path)\n",
    "\n",
    "trainer = Trainer1D(\n",
    "    diffusion,\n",
    "    dataset = dataset,\n",
    "    train_batch_size = 64,\n",
    "    train_lr = 8e-5,\n",
    "    train_num_steps = 7000,         # total training steps\n",
    "    gradient_accumulate_every = 2,    # gradient accumulation steps\n",
    "    ema_decay = 0.995,                # exponential moving average decay\n",
    "    amp = True,                       # turn on mixed precision\n",
    "    corr='frost',\n",
    "    results_folder='frost_results'\n",
    ")"
   ]
  },
  {
   "cell_type": "code",
   "execution_count": 76,
   "metadata": {},
   "outputs": [
    {
     "name": "stdout",
     "output_type": "stream",
     "text": [
      "loading from version 1.11.0\n"
     ]
    }
   ],
   "source": [
    "trainer.load(3)"
   ]
  },
  {
   "cell_type": "code",
   "execution_count": 85,
   "metadata": {},
   "outputs": [
    {
     "data": {
      "application/vnd.jupyter.widget-view+json": {
       "model_id": "cdc0c2b512504f6e81f093f9b00ce144",
       "version_major": 2,
       "version_minor": 0
      },
      "text/plain": [
       "sampling loop time step:   0%|          | 0/1000 [00:00<?, ?it/s]"
      ]
     },
     "metadata": {},
     "output_type": "display_data"
    }
   ],
   "source": [
    "sampled_seq = trainer.model.sample(batch_size = 4)"
   ]
  },
  {
   "cell_type": "code",
   "execution_count": 78,
   "metadata": {},
   "outputs": [],
   "source": [
    "import matplotlib.pyplot as plt"
   ]
  },
  {
   "cell_type": "code",
   "execution_count": 87,
   "metadata": {},
   "outputs": [],
   "source": [
    "root_dir = '../saved_data/checkpoints/gen_last_bn_eval_diverse/frost'\n",
    "files = os.listdir(root_dir)\n",
    "ck = torch.load(os.path.join(root_dir,files[0]))\n",
    "\n",
    "vec = torch.cat([param.flatten() for param in ck['model_state_dict'].values()]).to('cpu')\n",
    "vecs = torch.zeros(100,vec.shape[0])\n",
    "for i in range(100):\n",
    "    ck = torch.load(os.path.join(root_dir,files[i]))\n",
    "    vecs[i,:] = torch.cat([param.flatten() for param in ck['model_state_dict'].values()]).to('cpu')"
   ]
  },
  {
   "cell_type": "code",
   "execution_count": 91,
   "metadata": {},
   "outputs": [
    {
     "data": {
      "text/plain": [
       "(array([  1.,   0.,   0.,   1.,   2.,   6.,   9.,  10.,  36.,  28.,  44.,  66.,  94., 127., 115.,  79.,  57.,  66.,  76.,  57.,  69.,  56.,  63.,  41.,  46.,  42.,  24.,  21.,  10.,   9.,   5.,   6.,   8.,   3.,   2.,   0.,   0.,   0.,   0.,   1.]),\n",
       " array([-0.3614144 , -0.33802626, -0.31463808, -0.29124993, -0.26786175, -0.24447361, -0.22108544, -0.19769728, -0.17430912, -0.15092096, -0.12753281, -0.10414464, -0.08075649, -0.05736832, -0.03398016, -0.010592  ,  0.01279616,  0.03618432,  0.05957248,  0.08296064,  0.1063488 ,  0.12973696,  0.15312512,  0.17651328,  0.19990143,  0.22328959,  0.24667776,  0.2700659 ,  0.29345408,  0.31684223,  0.34023041,  0.36361855,  0.38700673,  0.41039488,  0.43378302,  0.4571712 ,  0.48055935,  0.5039475 ,  0.5273357 ,  0.55072385,  0.574112  ]),\n",
       " <BarContainer object of 40 artists>)"
      ]
     },
     "execution_count": 91,
     "metadata": {},
     "output_type": "execute_result"
    },
    {
     "data": {
      "image/png": "[encoded data removed]",
      "text/plain": [
       "<Figure size 640x480 with 1 Axes>"
      ]
     },
     "metadata": {},
     "output_type": "display_data"
    }
   ],
   "source": [
    "plt.hist(sampled_seq[0].view(-1).cpu(),bins=40)\n",
    "plt.hist(sampled_seq[1].view(-1).cpu(),bins=40)\n",
    "plt.hist(sampled_seq[2].view(-1).cpu(),bins=40)\n",
    "plt.hist(sampled_seq[3].view(-1).cpu(),bins=40)\n",
    "plt.hist(vecs[10],bins=40,alpha=0.3)"
   ]
  },
  {
   "cell_type": "code",
   "execution_count": 92,
   "metadata": {},
   "outputs": [
    {
     "data": {
      "text/plain": [
       "tensor([-0.1924,  0.0632, -0.1144,  ...,  0.0514, -0.0079, -0.1094],\n",
       "       device='cuda:0')"
      ]
     },
     "execution_count": 92,
     "metadata": {},
     "output_type": "execute_result"
    }
   ],
   "source": [
    "sampled_seq[0].view(-1)"
   ]
  },
  {
   "cell_type": "code",
   "execution_count": 70,
   "metadata": {},
   "outputs": [
    {
     "data": {
      "text/plain": [
       "tensor([-0.0016, -0.1264, -0.0696,  ...,  0.0540, -0.0194,  0.0212])"
      ]
     },
     "execution_count": 70,
     "metadata": {},
     "output_type": "execute_result"
    }
   ],
   "source": [
    "vecs[0]"
   ]
  },
  {
   "cell_type": "code",
   "execution_count": 93,
   "metadata": {},
   "outputs": [
    {
     "name": "stderr",
     "output_type": "stream",
     "text": [
      "/home/gc28692/Projects/GenAIProject/finetuning/datasets.py:29: UserWarning: you are shuffling a 'Tensor' object which is not a subclass of 'Sequence'; `shuffle` is not guaranteed to behave correctly. E.g., non-numpy array/tensor objects with view semantics may contain duplicates after shuffling.\n",
      "  np.random.shuffle(labels[i])\n",
      "100%|██████████| 35/35 [00:05<00:00,  5.89it/s]\n"
     ]
    },
    {
     "data": {
      "text/plain": [
       "(0.6943181818181818, tensor(1.0272, device='cuda:0'))"
      ]
     },
     "execution_count": 93,
     "metadata": {},
     "output_type": "execute_result"
    }
   ],
   "source": [
    "from robustbench.utils import clean_accuracy\n",
    "from robustbench.utils import load_model\n",
    "from torch.utils.data import DataLoader\n",
    "import torch.nn as nn\n",
    "import sys\n",
    "sys.path.append(\"../\")\n",
    "sys.path.append(\"../finetuning\")\n",
    "from finetuning.datasets import *\n",
    "from finetuning.train import validate\n",
    "\n",
    "def put_back_params(model,params):\n",
    "    with torch.no_grad():\n",
    "        weights = params[:len(params)//2]\n",
    "        biases = params[len(params)//2:]\n",
    "        model.bn1.weight[:] = weights[:]\n",
    "        model.bn1.bias[:] = biases[:]\n",
    "        return model\n",
    "\n",
    "model = load_model(model_name='Standard',dataset='cifar10',threat_model='corruptions').eval()\n",
    "model = put_back_params(model,sampled_seq[2].view(-1))\n",
    "# model.load_state_dict(sd,strict=False)\n",
    "model = model.eval()\n",
    "# train_ds, val_ds, test_ds = get_cifar10c_data([dls.vocab[yb[0]]],1000)\n",
    "train_ds, val_ds, test_ds = get_cifar10c_data(['frost'],1000)\n",
    "dl_t = DataLoader(test_ds,batch_size=256)\n",
    "criterion = nn.CrossEntropyLoss()\n",
    "\n",
    "validate(model,dl_t,'cuda',criterion)"
   ]
  },
  {
   "cell_type": "code",
   "execution_count": 95,
   "metadata": {},
   "outputs": [],
   "source": [
    "s1 = sampled_seq[0].view(-1)\n",
    "s2 = sampled_seq[1].view(-1)\n",
    "s3 = sampled_seq[2].view(-1)\n",
    "s4 = sampled_seq[3].view(-1)"
   ]
  },
  {
   "cell_type": "code",
   "execution_count": 111,
   "metadata": {},
   "outputs": [
    {
     "data": {
      "text/plain": [
       "tensor([0.2849, 0.2996, 0.2876, 0.2839, 0.2584, 0.2603, 0.2551, 0.2914, 0.2396,\n",
       "        0.2694, 0.2896, 0.2175, 0.2482, 0.2698, 0.2468, 0.2662, 0.2798, 0.2706,\n",
       "        0.2397, 0.2686, 0.1714, 0.2662, 0.2602, 0.2337, 0.2508, 0.2553, 0.2424,\n",
       "        0.2688, 0.2271, 0.2428, 0.2494, 0.2220, 0.2482, 0.2703, 0.2501, 0.2844,\n",
       "        0.3392, 0.3046, 0.1293, 0.2357, 0.2934, 0.2953, 0.2802, 0.2662, 0.3275,\n",
       "        0.2892, 0.2915, 0.2824, 0.2572, 0.2799, 0.2446, 0.2338, 0.3097, 0.2856,\n",
       "        0.2453, 0.2587, 0.2691, 0.2809, 0.2078, 0.2641, 0.2759, 0.2441, 0.2316,\n",
       "        0.1806, 0.2168, 0.2588, 0.2163, 0.2911, 0.2875, 0.2666, 0.2654, 0.2163,\n",
       "        0.2550, 0.1952, 0.2447, 0.2653, 0.2618, 0.2140, 0.2894, 0.2609, 0.1982,\n",
       "        0.2484, 0.2636, 0.3095, 0.2500, 0.2965, 0.2516, 0.2934, 0.2193, 0.2335,\n",
       "        0.2751, 0.3062, 0.2209, 0.2568, 0.2742, 0.2685, 0.2875, 0.2840, 0.2782,\n",
       "        0.2687])"
      ]
     },
     "execution_count": 111,
     "metadata": {},
     "output_type": "execute_result"
    }
   ],
   "source": [
    "torch.cosine_similarity(vecs.cpu(),s4.unsqueeze(0).cpu())"
   ]
  },
  {
   "cell_type": "code",
   "execution_count": 116,
   "metadata": {},
   "outputs": [
    {
     "data": {
      "text/plain": [
       "14.869264"
      ]
     },
     "execution_count": 116,
     "metadata": {},
     "output_type": "execute_result"
    }
   ],
   "source": [
    "sum(p.numel() for p in trainer.model.parameters() if p.requires_grad)/1000000"
   ]
  },
  {
   "cell_type": "code",
   "execution_count": 115,
   "metadata": {},
   "outputs": [
    {
     "data": {
      "text/plain": [
       "36.479194"
      ]
     },
     "execution_count": 115,
     "metadata": {},
     "output_type": "execute_result"
    }
   ],
   "source": [
    "sum(p.numel() for p in model.parameters() if p.requires_grad)/1000000"
   ]
  }
 ],
 "metadata": {
  "kernelspec": {
   "display_name": "ttda",
   "language": "python",
   "name": "python3"
  },
  "language_info": {
   "codemirror_mode": {
    "name": "ipython",
    "version": 3
   },
   "file_extension": ".py",
   "mimetype": "text/x-python",
   "name": "python",
   "nbconvert_exporter": "python",
   "pygments_lexer": "ipython3",
   "version": "3.9.17"
  }
 },
 "nbformat": 4,
 "nbformat_minor": 2
}
