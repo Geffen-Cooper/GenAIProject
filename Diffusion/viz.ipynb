{
 "cells": [
  {
   "cell_type": "code",
   "execution_count": 3,
   "metadata": {},
   "outputs": [
    {
     "name": "stderr",
     "output_type": "stream",
     "text": [
      "/home/gc28692/anaconda3/envs/ttda/lib/python3.9/site-packages/accelerate/accelerator.py:436: FutureWarning: Passing the following arguments to `Accelerator` is deprecated and will be removed in version 1.0 of Accelerate: dict_keys(['split_batches']). Please pass an `accelerate.DataLoaderConfiguration` instead: \n",
      "dataloader_config = DataLoaderConfiguration(split_batches=True)\n",
      "  warnings.warn(\n"
     ]
    }
   ],
   "source": [
    "from denoising_diffusion_pytorch import Unet1D, GaussianDiffusion1D, Trainer1D, Dataset1D\n",
    "import sys\n",
    "sys.path.append(\"../\")\n",
    "from param_dataset import *\n",
    "\n",
    "model = Unet1D(\n",
    "        dim = 64,\n",
    "        dim_mults = (1, 2, 4, 8),\n",
    "        channels = 10\n",
    "    )\n",
    "\n",
    "diffusion = GaussianDiffusion1D(\n",
    "    model,\n",
    "    seq_length = 128,\n",
    "    timesteps = 1000,\n",
    "    objective = 'pred_v',\n",
    "    auto_normalize=False\n",
    ")\n",
    "\n",
    "root_path = os.path.expanduser(f\"~/Projects/GenAIProject/saved_data/checkpoints/gen_last_bn_eval_diverse/frost\")\n",
    "dataset = ParamDataset(root_path)\n",
    "\n",
    "trainer = Trainer1D(\n",
    "    diffusion,\n",
    "    dataset = dataset,\n",
    "    train_batch_size = 64,\n",
    "    train_lr = 8e-5,\n",
    "    train_num_steps = 7000,         # total training steps\n",
    "    gradient_accumulate_every = 2,    # gradient accumulation steps\n",
    "    ema_decay = 0.995,                # exponential moving average decay\n",
    "    amp = True,                       # turn on mixed precision\n",
    "    corr='frost',\n",
    "    results_folder='frost_results'\n",
    ")"
   ]
  },
  {
   "cell_type": "code",
   "execution_count": 16,
   "metadata": {},
   "outputs": [
    {
     "name": "stdout",
     "output_type": "stream",
     "text": [
      "loading from version 1.11.0\n"
     ]
    }
   ],
   "source": [
    "trainer.load(2)"
   ]
  },
  {
   "cell_type": "code",
   "execution_count": 17,
   "metadata": {},
   "outputs": [
    {
     "data": {
      "application/vnd.jupyter.widget-view+json": {
       "model_id": "afaa6b847b0b47b18d9625044a720ff1",
       "version_major": 2,
       "version_minor": 0
      },
      "text/plain": [
       "sampling loop time step:   0%|          | 0/1000 [00:00<?, ?it/s]"
      ]
     },
     "metadata": {},
     "output_type": "display_data"
    }
   ],
   "source": [
    "sampled_seq = trainer.model.sample(batch_size = 1)"
   ]
  },
  {
   "cell_type": "code",
   "execution_count": 8,
   "metadata": {},
   "outputs": [],
   "source": [
    "import matplotlib.pyplot as plt"
   ]
  },
  {
   "cell_type": "code",
   "execution_count": 11,
   "metadata": {},
   "outputs": [],
   "source": [
    "root_dir = '../saved_data/checkpoints/gen_last_bn_eval_diverse/frost'\n",
    "files = os.listdir(root_dir)\n",
    "ck = torch.load(os.path.join(root_dir,files[0]))\n",
    "\n",
    "vec = torch.cat([param.flatten() for param in ck['model_state_dict'].values()]).to('cpu')\n",
    "vecs = torch.zeros(100,vec.shape[0])\n",
    "for i in range(100):\n",
    "    ck = torch.load(os.path.join(root_dir,files[i]))\n",
    "    vecs[i,:] = torch.cat([param.flatten() for param in ck['model_state_dict'].values()]).to('cpu')"
   ]
  },
  {
   "cell_type": "code",
   "execution_count": 18,
   "metadata": {},
   "outputs": [
    {
     "data": {
      "text/plain": [
       "(array([  2.,   1.,   2.,   4.,   3.,  13.,  19.,  23.,  37.,  55.,  69.,  80.,  99., 109.,  82.,  49.,  34.,  61.,  50.,  52.,  55.,  46.,  61.,  60.,  37.,  44.,  30.,  21.,  20.,  15.,  12.,   4.,   9.,   6.,   3.,   3.,   2.,   3.,   1.,   4.]),\n",
       " array([-0.30790958, -0.28701183, -0.26611409, -0.24521634, -0.22431859, -0.20342085, -0.1825231 , -0.16162536, -0.14072761, -0.11982987, -0.09893212, -0.07803438, -0.05713663, -0.03623889, -0.01534114,  0.0055566 ,  0.02645435,  0.04735209,  0.06824984,  0.08914758,  0.11004533,  0.13094307,  0.15184082,  0.17273857,  0.19363631,  0.21453406,  0.23543181,  0.25632954,  0.27722728,  0.29812503,  0.31902277,  0.33992052,  0.36081827,  0.38171601,  0.40261376,  0.42351151,  0.44440925,  0.465307  ,  0.48620474,  0.50710249,  0.52800024]),\n",
       " <BarContainer object of 40 artists>)"
      ]
     },
     "execution_count": 18,
     "metadata": {},
     "output_type": "execute_result"
    },
    {
     "data": {
      "image/png": "[encoded data removed]",
      "text/plain": [
       "<Figure size 640x480 with 1 Axes>"
      ]
     },
     "metadata": {},
     "output_type": "display_data"
    }
   ],
   "source": [
    "plt.hist(sampled_seq.view(-1).cpu(),bins=40)\n",
    "plt.hist(vecs[0],bins=40,alpha=0.3)"
   ]
  },
  {
   "cell_type": "code",
   "execution_count": 11,
   "metadata": {},
   "outputs": [
    {
     "data": {
      "text/plain": [
       "tensor(0., device='cuda:0')"
      ]
     },
     "execution_count": 11,
     "metadata": {},
     "output_type": "execute_result"
    }
   ],
   "source": [
    "sampled_seq.min()"
   ]
  }
 ],
 "metadata": {
  "kernelspec": {
   "display_name": "ttda",
   "language": "python",
   "name": "python3"
  },
  "language_info": {
   "codemirror_mode": {
    "name": "ipython",
    "version": 3
   },
   "file_extension": ".py",
   "mimetype": "text/x-python",
   "name": "python",
   "nbconvert_exporter": "python",
   "pygments_lexer": "ipython3",
   "version": "3.9.17"
  }
 },
 "nbformat": 4,
 "nbformat_minor": 2
}
