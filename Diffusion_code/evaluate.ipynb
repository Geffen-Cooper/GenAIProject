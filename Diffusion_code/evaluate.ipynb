{
 "cells": [
  {
   "cell_type": "code",
   "execution_count": 1,
   "metadata": {},
   "outputs": [
    {
     "name": "stderr",
     "output_type": "stream",
     "text": [
      "/home/gc28692/anaconda3/envs/ttda/lib/python3.9/site-packages/accelerate/accelerator.py:436: FutureWarning: Passing the following arguments to `Accelerator` is deprecated and will be removed in version 1.0 of Accelerate: dict_keys(['split_batches']). Please pass an `accelerate.DataLoaderConfiguration` instead: \n",
      "dataloader_config = DataLoaderConfiguration(split_batches=True)\n",
      "  warnings.warn(\n"
     ]
    }
   ],
   "source": [
    "from denoising_diffusion_pytorch.denoising_diffusion_pytorch_1d_guided_embd import Unet1D, GaussianDiffusion1D, Trainer1D, Dataset1D\n",
    "import sys\n",
    "sys.path.append(\"../\")\n",
    "from param_dataset import *\n",
    "from datasets import *\n",
    "\n",
    "from robustbench.utils import clean_accuracy\n",
    "from robustbench.utils import load_model\n",
    "from torch.utils.data import DataLoader\n",
    "import torch.nn as nn\n",
    "sys.path.append(\"../finetuning\")\n",
    "from finetuning.train import validate\n",
    "import matplotlib.pyplot as plt\n",
    "from torch.utils.data import Subset\n",
    "from tqdm import tqdm\n",
    "from collections import OrderedDict\n",
    "\n",
    "def put_back_params(model,params):\n",
    "    params = params.view(-1)\n",
    "    with torch.no_grad():\n",
    "        weights = params[:len(params)//2]\n",
    "        biases = params[len(params)//2:]\n",
    "        model.bn1.weight[:] = weights[:]\n",
    "        model.bn1.bias[:] = biases[:]\n",
    "        return model\n",
    "\n",
    "corrs = [\"frost\", \"gaussian_noise\", \"glass_blur\", \"contrast\", \"pixelate\"]\n",
    "\n",
    "model = Unet1D(\n",
    "    dim = 32,\n",
    "    dim_mults = (1, 2, 2, 2),\n",
    "    channels = 8,\n",
    "    num_classes = 5,\n",
    "    cond_drop_prob = 0.2\n",
    ")\n",
    "# print(sum(p.numel() for p in model.parameters() if p.requires_grad)/1000000)\n",
    "# exit()\n",
    "\n",
    "diffusion = GaussianDiffusion1D(\n",
    "    model,\n",
    "    seq_length = 160,\n",
    "    timesteps = 1000,\n",
    "    objective = 'pred_noise',\n",
    "    auto_normalize=False\n",
    ")\n",
    "\n",
    "root_path = os.path.expanduser(f\"~/Projects/GenAIProject/saved_data/checkpoints/gen_last_bn_eval_diverse/\")\n",
    "dataset = ParamDataset(root_path,conditional=False,corr_list=corrs,embd_cond=True)\n",
    "\n",
    "trainer = Trainer1D(\n",
    "    diffusion,\n",
    "    dataset = dataset,\n",
    "    corruptions = corrs,\n",
    "    train_batch_size = 64,\n",
    "    train_lr = 3e-4,\n",
    "    train_num_steps = 5000,         # total training steps\n",
    "    gradient_accumulate_every = 1,    # gradient accumulation steps\n",
    "    ema_decay = 0.999,                # exponential moving average decay\n",
    "    amp = True,                       # turn on mixed precision\n",
    "    results_folder=f'cond_embd_results/'\n",
    ")"
   ]
  },
  {
   "cell_type": "code",
   "execution_count": 3,
   "metadata": {},
   "outputs": [
    {
     "name": "stdout",
     "output_type": "stream",
     "text": [
      "loading from version 1.11.0\n"
     ]
    }
   ],
   "source": [
    "trainer.load(5)"
   ]
  },
  {
   "cell_type": "code",
   "execution_count": 2,
   "metadata": {},
   "outputs": [],
   "source": [
    "import copy"
   ]
  },
  {
   "cell_type": "markdown",
   "metadata": {},
   "source": [
    "finetune all"
   ]
  },
  {
   "cell_type": "code",
   "execution_count": 16,
   "metadata": {},
   "outputs": [
    {
     "name": "stdout",
     "output_type": "stream",
     "text": [
      "Files already downloaded and verified\n"
     ]
    },
    {
     "name": "stderr",
     "output_type": "stream",
     "text": [
      "100%|██████████| 2/2 [00:00<00:00,  4.86it/s]\n"
     ]
    },
    {
     "name": "stdout",
     "output_type": "stream",
     "text": [
      "Acc for clean = (before) 0.946, (after) 0.946, improvement: 0.0\n"
     ]
    },
    {
     "name": "stderr",
     "output_type": "stream",
     "text": [
      "100%|██████████| 35/35 [00:07<00:00,  4.90it/s]\n"
     ]
    },
    {
     "name": "stdout",
     "output_type": "stream",
     "text": [
      "Acc for gaussian_noise = (before) 0.2771590909090909, (after) 0.42556818181818185, improvement: 0.14840909090909093\n"
     ]
    },
    {
     "name": "stderr",
     "output_type": "stream",
     "text": [
      "100%|██████████| 35/35 [00:07<00:00,  4.90it/s]\n"
     ]
    },
    {
     "name": "stdout",
     "output_type": "stream",
     "text": [
      "Acc for shot_noise = (before) 0.3405681818181818, (after) 0.4847727272727273, improvement: 0.14420454545454547\n"
     ]
    },
    {
     "name": "stderr",
     "output_type": "stream",
     "text": [
      "100%|██████████| 35/35 [00:07<00:00,  4.87it/s]\n"
     ]
    },
    {
     "name": "stdout",
     "output_type": "stream",
     "text": [
      "Acc for impulse_noise = (before) 0.27045454545454545, (after) 0.27340909090909093, improvement: 0.0029545454545454874\n"
     ]
    },
    {
     "name": "stderr",
     "output_type": "stream",
     "text": [
      "100%|██████████| 35/35 [00:07<00:00,  4.87it/s]\n"
     ]
    },
    {
     "name": "stdout",
     "output_type": "stream",
     "text": [
      "Acc for defocus_blur = (before) 0.5336363636363637, (after) 0.54375, improvement: 0.01011363636363627\n"
     ]
    },
    {
     "name": "stderr",
     "output_type": "stream",
     "text": [
      "100%|██████████| 35/35 [00:07<00:00,  4.87it/s]\n"
     ]
    },
    {
     "name": "stdout",
     "output_type": "stream",
     "text": [
      "Acc for glass_blur = (before) 0.4551136363636364, (after) 0.5364772727272727, improvement: 0.08136363636363636\n"
     ]
    },
    {
     "name": "stderr",
     "output_type": "stream",
     "text": [
      "100%|██████████| 35/35 [00:07<00:00,  4.87it/s]\n"
     ]
    },
    {
     "name": "stdout",
     "output_type": "stream",
     "text": [
      "Acc for motion_blur = (before) 0.6528409090909091, (after) 0.66, improvement: 0.007159090909090948\n"
     ]
    },
    {
     "name": "stderr",
     "output_type": "stream",
     "text": [
      "100%|██████████| 35/35 [00:07<00:00,  4.87it/s]\n"
     ]
    },
    {
     "name": "stdout",
     "output_type": "stream",
     "text": [
      "Acc for zoom_blur = (before) 0.5792045454545455, (after) 0.5613636363636364, improvement: -0.017840909090909074\n"
     ]
    },
    {
     "name": "stderr",
     "output_type": "stream",
     "text": [
      "100%|██████████| 35/35 [00:07<00:00,  4.86it/s]\n"
     ]
    },
    {
     "name": "stdout",
     "output_type": "stream",
     "text": [
      "Acc for snow = (before) 0.74875, (after) 0.7794318181818182, improvement: 0.030681818181818143\n"
     ]
    },
    {
     "name": "stderr",
     "output_type": "stream",
     "text": [
      "100%|██████████| 35/35 [00:07<00:00,  4.86it/s]\n"
     ]
    },
    {
     "name": "stdout",
     "output_type": "stream",
     "text": [
      "Acc for frost = (before) 0.585, (after) 0.6802272727272727, improvement: 0.09522727272727272\n"
     ]
    },
    {
     "name": "stderr",
     "output_type": "stream",
     "text": [
      "100%|██████████| 35/35 [00:07<00:00,  4.86it/s]\n"
     ]
    },
    {
     "name": "stdout",
     "output_type": "stream",
     "text": [
      "Acc for fog = (before) 0.7392045454545455, (after) 0.7602272727272728, improvement: 0.02102272727272725\n"
     ]
    },
    {
     "name": "stderr",
     "output_type": "stream",
     "text": [
      "100%|██████████| 35/35 [00:07<00:00,  4.86it/s]\n"
     ]
    },
    {
     "name": "stdout",
     "output_type": "stream",
     "text": [
      "Acc for brightness = (before) 0.9079545454545455, (after) 0.8923863636363636, improvement: -0.01556818181818187\n"
     ]
    },
    {
     "name": "stderr",
     "output_type": "stream",
     "text": [
      "100%|██████████| 35/35 [00:07<00:00,  4.86it/s]\n"
     ]
    },
    {
     "name": "stdout",
     "output_type": "stream",
     "text": [
      "Acc for contrast = (before) 0.5336363636363637, (after) 0.6, improvement: 0.06636363636363629\n"
     ]
    },
    {
     "name": "stderr",
     "output_type": "stream",
     "text": [
      "100%|██████████| 35/35 [00:07<00:00,  4.84it/s]\n"
     ]
    },
    {
     "name": "stdout",
     "output_type": "stream",
     "text": [
      "Acc for elastic_transform = (before) 0.7320454545454546, (after) 0.7047727272727272, improvement: -0.027272727272727337\n"
     ]
    },
    {
     "name": "stderr",
     "output_type": "stream",
     "text": [
      "100%|██████████| 35/35 [00:07<00:00,  4.84it/s]\n"
     ]
    },
    {
     "name": "stdout",
     "output_type": "stream",
     "text": [
      "Acc for pixelate = (before) 0.415, (after) 0.5126136363636363, improvement: 0.09761363636363635\n"
     ]
    },
    {
     "name": "stderr",
     "output_type": "stream",
     "text": [
      "100%|██████████| 35/35 [00:07<00:00,  4.84it/s]"
     ]
    },
    {
     "name": "stdout",
     "output_type": "stream",
     "text": [
      "Acc for jpeg_compression = (before) 0.6973863636363636, (after) 0.6659090909090909, improvement: -0.03147727272727274\n"
     ]
    },
    {
     "name": "stderr",
     "output_type": "stream",
     "text": [
      "\n"
     ]
    }
   ],
   "source": [
    "corrs = [\"clean\",\"gaussian_noise\",\"shot_noise\",\"impulse_noise\", \n",
    "\t\t\"defocus_blur\",\"glass_blur\",\"motion_blur\",\"zoom_blur\",\n",
    "\t\t\"snow\",\"frost\", \"fog\",\n",
    "\t\t\"brightness\", \"contrast\",\"elastic_transform\",\"pixelate\",\"jpeg_compression\"]\n",
    "accs = {corr : [] for corr in corrs}\n",
    "aug_accs = {corr : [] for corr in corrs}\n",
    "\n",
    "og_model = load_model(model_name='Standard',dataset='cifar10',threat_model='corruptions').eval().cuda()\n",
    "og_params = OrderedDict((key, value.cpu()) for key, value in og_model.state_dict().items() if key in ['bn1.weight','bn1.bias'])\n",
    "og_params = torch.cat([param.flatten() for param in og_params.values()])\n",
    "\n",
    "for corr_i,corr in enumerate(corrs):\n",
    "\ttest_model = load_model(model_name='Standard',dataset='cifar10',threat_model='corruptions').eval().cuda()\n",
    "\t\n",
    "\t# get data for specific corruption\n",
    "\tif corr == 'clean':\n",
    "\t\tx_clean, y_clean = x_clean,y_clean = load_cifar10(500)\n",
    "\t\ttest_ds = TensorDataset(x_clean,y_clean)\n",
    "\t\taug_model = copy.deepcopy(test_model)\n",
    "\telse:\n",
    "\t\troot_path = f\"~/Projects/GenAIProject/saved_data/checkpoints/gen_last_bn_eval_diverse_all/\"\n",
    "\t\tpaths = os.listdir(os.path.expanduser(os.path.join(root_path,'all')))\n",
    "\t\tmodel_path = os.path.expanduser(os.path.join(root_path,'all',paths[0]))\n",
    "\t\tparams = torch.load(model_path)\n",
    "\t\taug_model = copy.deepcopy(test_model)\n",
    "\t\taug_model.load_state_dict(torch.load(model_path)['model_state_dict'],strict=False)\n",
    "\t\taug_model = aug_model.eval()\n",
    "\t\ttrain_ds, val_ds, test_ds = get_cifar10c_data([corrs[corr_i]],1000)\n",
    "\t\t#test_ds = Subset(test_ds,torch.arange(2000))\n",
    "\t\n",
    "\tdl_t = DataLoader(test_ds,batch_size=256)\n",
    "\tnum_correct = 0\n",
    "\taug_num_correct = 0\n",
    "\ttotal = 0\n",
    "\t\n",
    "\t# aug model\n",
    "\t\n",
    "\twith torch.no_grad():\n",
    "\t\tpredictions = []\n",
    "\t\tlabels = []\n",
    "\t\toutputs = []\n",
    "\t\tpredictions_ = []\n",
    "\t\tlabels_ = []\n",
    "\t\toutputs_ = []\n",
    "\t\tfor batch_idx, (data,target) in enumerate(tqdm(dl_t)):\n",
    "\t\t\tdata,target = data.to('cuda'),target.to('cuda')\n",
    "\n",
    "\t\t\t# og model\n",
    "\t\t\tout = test_model(data)\n",
    "\t\t\tpred = out.argmax(dim=1).to('cpu')\n",
    "\t\t\tpredictions.append(pred)\n",
    "\t\t\tlabels.append(target.to('cpu'))\n",
    "\t\t\toutputs.append(out.to('cpu'))\n",
    "\t\t\t# print(pred.shape,target.shape)\n",
    "\t\t\t# num_correct += (pred == target.to('cpu'))\n",
    "\n",
    "\t\t\tout = aug_model(data)\n",
    "\t\t\tpred = out.argmax(dim=1).to('cpu')\n",
    "\t\t\tpredictions_.append(pred)\n",
    "\t\t\tlabels_.append(target.to('cpu'))\n",
    "\t\t\toutputs_.append(out.to('cpu'))\n",
    "\t\t\t# aug_num_correct += (pred == target.to('cpu'))\n",
    "\t\t\t# total += 1\n",
    "\n",
    "\tpredictions = torch.cat(predictions).numpy()\n",
    "\tlabels = torch.cat(labels).numpy()\n",
    "\toutputs = torch.cat(outputs)\n",
    "\tpredictions_ = torch.cat(predictions_).numpy()\n",
    "\tlabels_ = torch.cat(labels_).numpy()\n",
    "\toutputs_ = torch.cat(outputs_)\n",
    "\tacc = (predictions == labels).mean()\n",
    "\taug_acc = (predictions_ == labels_).mean()\n",
    "\t\n",
    "\tprint(f\"Acc for {corr} = (before) {acc}, (after) {aug_acc}, improvement: {aug_acc-acc}\")\n",
    "\taccs[corr].append(acc.item())\n",
    "\taug_accs[corr].append(aug_acc.item())"
   ]
  },
  {
   "cell_type": "markdown",
   "metadata": {},
   "source": [
    "finetune single"
   ]
  },
  {
   "cell_type": "code",
   "execution_count": 15,
   "metadata": {},
   "outputs": [
    {
     "name": "stdout",
     "output_type": "stream",
     "text": [
      "Files already downloaded and verified\n"
     ]
    },
    {
     "name": "stderr",
     "output_type": "stream",
     "text": [
      "100%|██████████| 2/2 [00:00<00:00,  4.87it/s]\n"
     ]
    },
    {
     "name": "stdout",
     "output_type": "stream",
     "text": [
      "Acc for clean = (before) 0.946, (after) 0.946, improvement: 0.0\n"
     ]
    },
    {
     "name": "stderr",
     "output_type": "stream",
     "text": [
      "100%|██████████| 35/35 [00:07<00:00,  4.89it/s]\n"
     ]
    },
    {
     "name": "stdout",
     "output_type": "stream",
     "text": [
      "Acc for gaussian_noise = (before) 0.2771590909090909, (after) 0.49022727272727273, improvement: 0.21306818181818182\n"
     ]
    },
    {
     "name": "stderr",
     "output_type": "stream",
     "text": [
      "100%|██████████| 35/35 [00:07<00:00,  4.88it/s]\n"
     ]
    },
    {
     "name": "stdout",
     "output_type": "stream",
     "text": [
      "Acc for shot_noise = (before) 0.3405681818181818, (after) 0.509090909090909, improvement: 0.1685227272727272\n"
     ]
    },
    {
     "name": "stderr",
     "output_type": "stream",
     "text": [
      "100%|██████████| 35/35 [00:07<00:00,  4.87it/s]\n"
     ]
    },
    {
     "name": "stdout",
     "output_type": "stream",
     "text": [
      "Acc for impulse_noise = (before) 0.27045454545454545, (after) 0.35818181818181816, improvement: 0.08772727272727271\n"
     ]
    },
    {
     "name": "stderr",
     "output_type": "stream",
     "text": [
      "100%|██████████| 35/35 [00:07<00:00,  4.87it/s]\n"
     ]
    },
    {
     "name": "stdout",
     "output_type": "stream",
     "text": [
      "Acc for defocus_blur = (before) 0.5336363636363637, (after) 0.6580681818181818, improvement: 0.12443181818181814\n"
     ]
    },
    {
     "name": "stderr",
     "output_type": "stream",
     "text": [
      "100%|██████████| 35/35 [00:07<00:00,  4.80it/s]\n"
     ]
    },
    {
     "name": "stdout",
     "output_type": "stream",
     "text": [
      "Acc for glass_blur = (before) 0.4551136363636364, (after) 0.5693181818181818, improvement: 0.11420454545454545\n"
     ]
    },
    {
     "name": "stderr",
     "output_type": "stream",
     "text": [
      "100%|██████████| 35/35 [00:07<00:00,  4.86it/s]\n"
     ]
    },
    {
     "name": "stdout",
     "output_type": "stream",
     "text": [
      "Acc for motion_blur = (before) 0.6528409090909091, (after) 0.7373863636363637, improvement: 0.08454545454545459\n"
     ]
    },
    {
     "name": "stderr",
     "output_type": "stream",
     "text": [
      "100%|██████████| 35/35 [00:07<00:00,  4.86it/s]\n"
     ]
    },
    {
     "name": "stdout",
     "output_type": "stream",
     "text": [
      "Acc for zoom_blur = (before) 0.5792045454545455, (after) 0.6890909090909091, improvement: 0.10988636363636362\n"
     ]
    },
    {
     "name": "stderr",
     "output_type": "stream",
     "text": [
      "100%|██████████| 35/35 [00:07<00:00,  4.86it/s]\n"
     ]
    },
    {
     "name": "stdout",
     "output_type": "stream",
     "text": [
      "Acc for snow = (before) 0.74875, (after) 0.7763636363636364, improvement: 0.02761363636363634\n"
     ]
    },
    {
     "name": "stderr",
     "output_type": "stream",
     "text": [
      "100%|██████████| 35/35 [00:07<00:00,  4.86it/s]\n"
     ]
    },
    {
     "name": "stdout",
     "output_type": "stream",
     "text": [
      "Acc for frost = (before) 0.585, (after) 0.7080681818181818, improvement: 0.1230681818181818\n"
     ]
    },
    {
     "name": "stderr",
     "output_type": "stream",
     "text": [
      "100%|██████████| 35/35 [00:07<00:00,  4.86it/s]\n"
     ]
    },
    {
     "name": "stdout",
     "output_type": "stream",
     "text": [
      "Acc for fog = (before) 0.7392045454545455, (after) 0.8042045454545454, improvement: 0.06499999999999995\n"
     ]
    },
    {
     "name": "stderr",
     "output_type": "stream",
     "text": [
      "100%|██████████| 35/35 [00:07<00:00,  4.86it/s]\n"
     ]
    },
    {
     "name": "stdout",
     "output_type": "stream",
     "text": [
      "Acc for brightness = (before) 0.9079545454545455, (after) 0.9082954545454546, improvement: 0.0003409090909091139\n"
     ]
    },
    {
     "name": "stderr",
     "output_type": "stream",
     "text": [
      "100%|██████████| 35/35 [00:07<00:00,  4.86it/s]\n"
     ]
    },
    {
     "name": "stdout",
     "output_type": "stream",
     "text": [
      "Acc for contrast = (before) 0.5336363636363637, (after) 0.6557954545454545, improvement: 0.12215909090909083\n"
     ]
    },
    {
     "name": "stderr",
     "output_type": "stream",
     "text": [
      "100%|██████████| 35/35 [00:07<00:00,  4.84it/s]\n"
     ]
    },
    {
     "name": "stdout",
     "output_type": "stream",
     "text": [
      "Acc for elastic_transform = (before) 0.7320454545454546, (after) 0.7609090909090909, improvement: 0.028863636363636314\n"
     ]
    },
    {
     "name": "stderr",
     "output_type": "stream",
     "text": [
      "100%|██████████| 35/35 [00:07<00:00,  4.84it/s]\n"
     ]
    },
    {
     "name": "stdout",
     "output_type": "stream",
     "text": [
      "Acc for pixelate = (before) 0.415, (after) 0.6119318181818182, improvement: 0.1969318181818182\n"
     ]
    },
    {
     "name": "stderr",
     "output_type": "stream",
     "text": [
      "100%|██████████| 35/35 [00:07<00:00,  4.84it/s]"
     ]
    },
    {
     "name": "stdout",
     "output_type": "stream",
     "text": [
      "Acc for jpeg_compression = (before) 0.6973863636363636, (after) 0.7193181818181819, improvement: 0.02193181818181822\n"
     ]
    },
    {
     "name": "stderr",
     "output_type": "stream",
     "text": [
      "\n"
     ]
    }
   ],
   "source": [
    "corrs = [\"clean\",\"gaussian_noise\",\"shot_noise\",\"impulse_noise\", \n",
    "\t\t\"defocus_blur\",\"glass_blur\",\"motion_blur\",\"zoom_blur\",\n",
    "\t\t\"snow\",\"frost\", \"fog\",\n",
    "\t\t\"brightness\", \"contrast\",\"elastic_transform\",\"pixelate\",\"jpeg_compression\"]\n",
    "accs = {corr : [] for corr in corrs}\n",
    "aug_accs = {corr : [] for corr in corrs}\n",
    "\n",
    "og_model = load_model(model_name='Standard',dataset='cifar10',threat_model='corruptions').eval().cuda()\n",
    "og_params = OrderedDict((key, value.cpu()) for key, value in og_model.state_dict().items() if key in ['bn1.weight','bn1.bias'])\n",
    "og_params = torch.cat([param.flatten() for param in og_params.values()])\n",
    "\n",
    "for corr_i,corr in enumerate(corrs):\n",
    "\ttest_model = load_model(model_name='Standard',dataset='cifar10',threat_model='corruptions').eval().cuda()\n",
    "\t\n",
    "\t# get data for specific corruption\n",
    "\tif corr == 'clean':\n",
    "\t\tx_clean, y_clean = x_clean,y_clean = load_cifar10(500)\n",
    "\t\ttest_ds = TensorDataset(x_clean,y_clean)\n",
    "\t\taug_model = copy.deepcopy(test_model)\n",
    "\telse:\n",
    "\t\troot_path = f\"~/Projects/GenAIProject/saved_data/checkpoints/gen_last_bn_eval_diverse_single/\"\n",
    "\t\tpaths = os.listdir(os.path.expanduser(os.path.join(root_path,corr)))\n",
    "\t\tmodel_path = os.path.expanduser(os.path.join(root_path,corr,paths[0]))\n",
    "\t\tparams = torch.load(model_path)\n",
    "\t\taug_model = copy.deepcopy(test_model)\n",
    "\t\taug_model.load_state_dict(torch.load(model_path)['model_state_dict'],strict=False)\n",
    "\t\taug_model = aug_model.eval()\n",
    "\t\ttrain_ds, val_ds, test_ds = get_cifar10c_data([corrs[corr_i]],1000)\n",
    "\t\t#test_ds = Subset(test_ds,torch.arange(2000))\n",
    "\t\n",
    "\tdl_t = DataLoader(test_ds,batch_size=256)\n",
    "\tnum_correct = 0\n",
    "\taug_num_correct = 0\n",
    "\ttotal = 0\n",
    "\t\n",
    "\t# aug model\n",
    "\t\n",
    "\twith torch.no_grad():\n",
    "\t\tpredictions = []\n",
    "\t\tlabels = []\n",
    "\t\toutputs = []\n",
    "\t\tpredictions_ = []\n",
    "\t\tlabels_ = []\n",
    "\t\toutputs_ = []\n",
    "\t\tfor batch_idx, (data,target) in enumerate(tqdm(dl_t)):\n",
    "\t\t\tdata,target = data.to('cuda'),target.to('cuda')\n",
    "\n",
    "\t\t\t# og model\n",
    "\t\t\tout = test_model(data)\n",
    "\t\t\tpred = out.argmax(dim=1).to('cpu')\n",
    "\t\t\tpredictions.append(pred)\n",
    "\t\t\tlabels.append(target.to('cpu'))\n",
    "\t\t\toutputs.append(out.to('cpu'))\n",
    "\t\t\t# print(pred.shape,target.shape)\n",
    "\t\t\t# num_correct += (pred == target.to('cpu'))\n",
    "\n",
    "\t\t\tout = aug_model(data)\n",
    "\t\t\tpred = out.argmax(dim=1).to('cpu')\n",
    "\t\t\tpredictions_.append(pred)\n",
    "\t\t\tlabels_.append(target.to('cpu'))\n",
    "\t\t\toutputs_.append(out.to('cpu'))\n",
    "\t\t\t# aug_num_correct += (pred == target.to('cpu'))\n",
    "\t\t\t# total += 1\n",
    "\n",
    "\tpredictions = torch.cat(predictions).numpy()\n",
    "\tlabels = torch.cat(labels).numpy()\n",
    "\toutputs = torch.cat(outputs)\n",
    "\tpredictions_ = torch.cat(predictions_).numpy()\n",
    "\tlabels_ = torch.cat(labels_).numpy()\n",
    "\toutputs_ = torch.cat(outputs_)\n",
    "\tacc = (predictions == labels).mean()\n",
    "\taug_acc = (predictions_ == labels_).mean()\n",
    "\t\n",
    "\tprint(f\"Acc for {corr} = (before) {acc}, (after) {aug_acc}, improvement: {aug_acc-acc}\")\n",
    "\taccs[corr].append(acc.item())\n",
    "\taug_accs[corr].append(aug_acc.item())"
   ]
  },
  {
   "cell_type": "markdown",
   "metadata": {},
   "source": [
    "diffusion"
   ]
  },
  {
   "cell_type": "code",
   "execution_count": 4,
   "metadata": {},
   "outputs": [
    {
     "name": "stdout",
     "output_type": "stream",
     "text": [
      "Files already downloaded and verified\n"
     ]
    },
    {
     "name": "stderr",
     "output_type": "stream",
     "text": [
      "  0%|          | 0/2 [00:00<?, ?it/s]"
     ]
    },
    {
     "data": {
      "application/vnd.jupyter.widget-view+json": {
       "model_id": "271bb194fe7241949e3e91408121513d",
       "version_major": 2,
       "version_minor": 0
      },
      "text/plain": [
       "sampling loop time step:   0%|          | 0/1000 [00:00<?, ?it/s]"
      ]
     },
     "metadata": {},
     "output_type": "display_data"
    },
    {
     "name": "stderr",
     "output_type": "stream",
     "text": [
      " 50%|█████     | 1/2 [00:33<00:33, 33.88s/it]"
     ]
    },
    {
     "data": {
      "application/vnd.jupyter.widget-view+json": {
       "model_id": "22d9a655fd564c9a94f5fecc4061f23a",
       "version_major": 2,
       "version_minor": 0
      },
      "text/plain": [
       "sampling loop time step:   0%|          | 0/1000 [00:00<?, ?it/s]"
      ]
     },
     "metadata": {},
     "output_type": "display_data"
    },
    {
     "name": "stderr",
     "output_type": "stream",
     "text": [
      "100%|██████████| 2/2 [01:05<00:00, 32.80s/it]\n",
      "100%|██████████| 1000/1000 [00:03<00:00, 278.55it/s]\n"
     ]
    },
    {
     "name": "stdout",
     "output_type": "stream",
     "text": [
      "Acc for clean = (before) tensor([0.9480]), (after) tensor([0.9300]), improvement: tensor([-0.0180])\n"
     ]
    },
    {
     "name": "stderr",
     "output_type": "stream",
     "text": [
      "  0%|          | 0/2 [00:00<?, ?it/s]"
     ]
    },
    {
     "data": {
      "application/vnd.jupyter.widget-view+json": {
       "model_id": "dc24f46dedeb4f4281ecc8189a89fc8c",
       "version_major": 2,
       "version_minor": 0
      },
      "text/plain": [
       "sampling loop time step:   0%|          | 0/1000 [00:00<?, ?it/s]"
      ]
     },
     "metadata": {},
     "output_type": "display_data"
    },
    {
     "name": "stderr",
     "output_type": "stream",
     "text": [
      " 50%|█████     | 1/2 [00:33<00:33, 33.12s/it]"
     ]
    },
    {
     "data": {
      "application/vnd.jupyter.widget-view+json": {
       "model_id": "bc0279372e344aa6887239ab73936bb8",
       "version_major": 2,
       "version_minor": 0
      },
      "text/plain": [
       "sampling loop time step:   0%|          | 0/1000 [00:00<?, ?it/s]"
      ]
     },
     "metadata": {},
     "output_type": "display_data"
    },
    {
     "name": "stderr",
     "output_type": "stream",
     "text": [
      "100%|██████████| 2/2 [01:04<00:00, 32.48s/it]\n",
      "100%|██████████| 1000/1000 [00:03<00:00, 277.73it/s]\n"
     ]
    },
    {
     "name": "stdout",
     "output_type": "stream",
     "text": [
      "Acc for gaussian_noise = (before) tensor([0.2790]), (after) tensor([0.4380]), improvement: tensor([0.1590])\n"
     ]
    },
    {
     "name": "stderr",
     "output_type": "stream",
     "text": [
      "  0%|          | 0/2 [00:00<?, ?it/s]"
     ]
    },
    {
     "data": {
      "application/vnd.jupyter.widget-view+json": {
       "model_id": "8b9190f829a142288a9514183fe61e89",
       "version_major": 2,
       "version_minor": 0
      },
      "text/plain": [
       "sampling loop time step:   0%|          | 0/1000 [00:00<?, ?it/s]"
      ]
     },
     "metadata": {},
     "output_type": "display_data"
    },
    {
     "name": "stderr",
     "output_type": "stream",
     "text": [
      " 50%|█████     | 1/2 [00:33<00:33, 33.13s/it]"
     ]
    },
    {
     "data": {
      "application/vnd.jupyter.widget-view+json": {
       "model_id": "aa3e9470ccaf4c94ae3d81f6b6d33af6",
       "version_major": 2,
       "version_minor": 0
      },
      "text/plain": [
       "sampling loop time step:   0%|          | 0/1000 [00:00<?, ?it/s]"
      ]
     },
     "metadata": {},
     "output_type": "display_data"
    },
    {
     "name": "stderr",
     "output_type": "stream",
     "text": [
      "100%|██████████| 2/2 [01:04<00:00, 32.44s/it]\n",
      "100%|██████████| 1000/1000 [00:03<00:00, 275.15it/s]\n"
     ]
    },
    {
     "name": "stdout",
     "output_type": "stream",
     "text": [
      "Acc for shot_noise = (before) tensor([0.3550]), (after) tensor([0.4820]), improvement: tensor([0.1270])\n"
     ]
    },
    {
     "name": "stderr",
     "output_type": "stream",
     "text": [
      "  0%|          | 0/2 [00:00<?, ?it/s]"
     ]
    },
    {
     "data": {
      "application/vnd.jupyter.widget-view+json": {
       "model_id": "202f4aad8e6e457cbf2de86d04ad9e84",
       "version_major": 2,
       "version_minor": 0
      },
      "text/plain": [
       "sampling loop time step:   0%|          | 0/1000 [00:00<?, ?it/s]"
      ]
     },
     "metadata": {},
     "output_type": "display_data"
    },
    {
     "name": "stderr",
     "output_type": "stream",
     "text": [
      " 50%|█████     | 1/2 [00:33<00:33, 33.13s/it]"
     ]
    },
    {
     "data": {
      "application/vnd.jupyter.widget-view+json": {
       "model_id": "5fd526dcc46c439f9ee186b8642c0600",
       "version_major": 2,
       "version_minor": 0
      },
      "text/plain": [
       "sampling loop time step:   0%|          | 0/1000 [00:00<?, ?it/s]"
      ]
     },
     "metadata": {},
     "output_type": "display_data"
    },
    {
     "name": "stderr",
     "output_type": "stream",
     "text": [
      "100%|██████████| 2/2 [01:04<00:00, 32.44s/it]\n",
      "100%|██████████| 1000/1000 [00:03<00:00, 279.18it/s]\n"
     ]
    },
    {
     "name": "stdout",
     "output_type": "stream",
     "text": [
      "Acc for impulse_noise = (before) tensor([0.2760]), (after) tensor([0.2800]), improvement: tensor([0.0040])\n"
     ]
    },
    {
     "name": "stderr",
     "output_type": "stream",
     "text": [
      "  0%|          | 0/2 [00:00<?, ?it/s]"
     ]
    },
    {
     "data": {
      "application/vnd.jupyter.widget-view+json": {
       "model_id": "8d653293399f4b8eae30ac7290f1b317",
       "version_major": 2,
       "version_minor": 0
      },
      "text/plain": [
       "sampling loop time step:   0%|          | 0/1000 [00:00<?, ?it/s]"
      ]
     },
     "metadata": {},
     "output_type": "display_data"
    },
    {
     "name": "stderr",
     "output_type": "stream",
     "text": [
      " 50%|█████     | 1/2 [00:33<00:33, 33.11s/it]"
     ]
    },
    {
     "data": {
      "application/vnd.jupyter.widget-view+json": {
       "model_id": "96b30cf91c4441bb8558dc3c8f73541b",
       "version_major": 2,
       "version_minor": 0
      },
      "text/plain": [
       "sampling loop time step:   0%|          | 0/1000 [00:00<?, ?it/s]"
      ]
     },
     "metadata": {},
     "output_type": "display_data"
    },
    {
     "name": "stderr",
     "output_type": "stream",
     "text": [
      "100%|██████████| 2/2 [01:04<00:00, 32.43s/it]\n",
      "100%|██████████| 1000/1000 [00:03<00:00, 279.95it/s]\n"
     ]
    },
    {
     "name": "stdout",
     "output_type": "stream",
     "text": [
      "Acc for defocus_blur = (before) tensor([0.5340]), (after) tensor([0.5600]), improvement: tensor([0.0260])\n"
     ]
    },
    {
     "name": "stderr",
     "output_type": "stream",
     "text": [
      "  0%|          | 0/2 [00:00<?, ?it/s]"
     ]
    },
    {
     "data": {
      "application/vnd.jupyter.widget-view+json": {
       "model_id": "c51862e885424df985275b770648b3e4",
       "version_major": 2,
       "version_minor": 0
      },
      "text/plain": [
       "sampling loop time step:   0%|          | 0/1000 [00:00<?, ?it/s]"
      ]
     },
     "metadata": {},
     "output_type": "display_data"
    },
    {
     "name": "stderr",
     "output_type": "stream",
     "text": [
      " 50%|█████     | 1/2 [00:33<00:33, 33.16s/it]"
     ]
    },
    {
     "data": {
      "application/vnd.jupyter.widget-view+json": {
       "model_id": "779e852af21143a4af686edc3c5f8af9",
       "version_major": 2,
       "version_minor": 0
      },
      "text/plain": [
       "sampling loop time step:   0%|          | 0/1000 [00:00<?, ?it/s]"
      ]
     },
     "metadata": {},
     "output_type": "display_data"
    },
    {
     "name": "stderr",
     "output_type": "stream",
     "text": [
      "100%|██████████| 2/2 [01:04<00:00, 32.45s/it]\n",
      "100%|██████████| 1000/1000 [00:03<00:00, 279.71it/s]\n"
     ]
    },
    {
     "name": "stdout",
     "output_type": "stream",
     "text": [
      "Acc for glass_blur = (before) tensor([0.4650]), (after) tensor([0.5600]), improvement: tensor([0.0950])\n"
     ]
    },
    {
     "name": "stderr",
     "output_type": "stream",
     "text": [
      "  0%|          | 0/2 [00:00<?, ?it/s]"
     ]
    },
    {
     "data": {
      "application/vnd.jupyter.widget-view+json": {
       "model_id": "c6493ddc4d5d4f26b2c80c83139dbeaf",
       "version_major": 2,
       "version_minor": 0
      },
      "text/plain": [
       "sampling loop time step:   0%|          | 0/1000 [00:00<?, ?it/s]"
      ]
     },
     "metadata": {},
     "output_type": "display_data"
    },
    {
     "name": "stderr",
     "output_type": "stream",
     "text": [
      " 50%|█████     | 1/2 [00:33<00:33, 33.21s/it]"
     ]
    },
    {
     "data": {
      "application/vnd.jupyter.widget-view+json": {
       "model_id": "5edaa1b0d7854e57b2cc5c054c26ec4c",
       "version_major": 2,
       "version_minor": 0
      },
      "text/plain": [
       "sampling loop time step:   0%|          | 0/1000 [00:00<?, ?it/s]"
      ]
     },
     "metadata": {},
     "output_type": "display_data"
    },
    {
     "name": "stderr",
     "output_type": "stream",
     "text": [
      "100%|██████████| 2/2 [01:04<00:00, 32.49s/it]\n",
      "100%|██████████| 1000/1000 [00:03<00:00, 278.64it/s]\n"
     ]
    },
    {
     "name": "stdout",
     "output_type": "stream",
     "text": [
      "Acc for motion_blur = (before) tensor([0.6500]), (after) tensor([0.6930]), improvement: tensor([0.0430])\n"
     ]
    },
    {
     "name": "stderr",
     "output_type": "stream",
     "text": [
      "  0%|          | 0/2 [00:00<?, ?it/s]"
     ]
    },
    {
     "data": {
      "application/vnd.jupyter.widget-view+json": {
       "model_id": "e50cc403cf0741ee8025d7bd5389ca18",
       "version_major": 2,
       "version_minor": 0
      },
      "text/plain": [
       "sampling loop time step:   0%|          | 0/1000 [00:00<?, ?it/s]"
      ]
     },
     "metadata": {},
     "output_type": "display_data"
    },
    {
     "name": "stderr",
     "output_type": "stream",
     "text": [
      " 50%|█████     | 1/2 [00:33<00:33, 33.06s/it]"
     ]
    },
    {
     "data": {
      "application/vnd.jupyter.widget-view+json": {
       "model_id": "1c31fe87c1864a10b65013159e24197e",
       "version_major": 2,
       "version_minor": 0
      },
      "text/plain": [
       "sampling loop time step:   0%|          | 0/1000 [00:00<?, ?it/s]"
      ]
     },
     "metadata": {},
     "output_type": "display_data"
    },
    {
     "name": "stderr",
     "output_type": "stream",
     "text": [
      "100%|██████████| 2/2 [01:04<00:00, 32.39s/it]\n",
      "100%|██████████| 1000/1000 [00:03<00:00, 278.55it/s]\n"
     ]
    },
    {
     "name": "stdout",
     "output_type": "stream",
     "text": [
      "Acc for zoom_blur = (before) tensor([0.5760]), (after) tensor([0.5870]), improvement: tensor([0.0110])\n"
     ]
    },
    {
     "name": "stderr",
     "output_type": "stream",
     "text": [
      "  0%|          | 0/2 [00:00<?, ?it/s]"
     ]
    },
    {
     "data": {
      "application/vnd.jupyter.widget-view+json": {
       "model_id": "321a2f2657f64fe2a718e5b1b7480aef",
       "version_major": 2,
       "version_minor": 0
      },
      "text/plain": [
       "sampling loop time step:   0%|          | 0/1000 [00:00<?, ?it/s]"
      ]
     },
     "metadata": {},
     "output_type": "display_data"
    },
    {
     "name": "stderr",
     "output_type": "stream",
     "text": [
      " 50%|█████     | 1/2 [00:33<00:33, 33.08s/it]"
     ]
    },
    {
     "data": {
      "application/vnd.jupyter.widget-view+json": {
       "model_id": "125512fd778b441582844eb761da9a9a",
       "version_major": 2,
       "version_minor": 0
      },
      "text/plain": [
       "sampling loop time step:   0%|          | 0/1000 [00:00<?, ?it/s]"
      ]
     },
     "metadata": {},
     "output_type": "display_data"
    },
    {
     "name": "stderr",
     "output_type": "stream",
     "text": [
      "100%|██████████| 2/2 [01:04<00:00, 32.41s/it]\n",
      "100%|██████████| 1000/1000 [00:03<00:00, 278.78it/s]\n"
     ]
    },
    {
     "name": "stdout",
     "output_type": "stream",
     "text": [
      "Acc for snow = (before) tensor([0.7590]), (after) tensor([0.7670]), improvement: tensor([0.0080])\n"
     ]
    },
    {
     "name": "stderr",
     "output_type": "stream",
     "text": [
      "  0%|          | 0/2 [00:00<?, ?it/s]"
     ]
    },
    {
     "data": {
      "application/vnd.jupyter.widget-view+json": {
       "model_id": "c701741bc495482cb114f6b1844b4e05",
       "version_major": 2,
       "version_minor": 0
      },
      "text/plain": [
       "sampling loop time step:   0%|          | 0/1000 [00:00<?, ?it/s]"
      ]
     },
     "metadata": {},
     "output_type": "display_data"
    },
    {
     "name": "stderr",
     "output_type": "stream",
     "text": [
      " 50%|█████     | 1/2 [00:33<00:33, 33.12s/it]"
     ]
    },
    {
     "data": {
      "application/vnd.jupyter.widget-view+json": {
       "model_id": "bc06bf37897149189acc17b6434e8311",
       "version_major": 2,
       "version_minor": 0
      },
      "text/plain": [
       "sampling loop time step:   0%|          | 0/1000 [00:00<?, ?it/s]"
      ]
     },
     "metadata": {},
     "output_type": "display_data"
    },
    {
     "name": "stderr",
     "output_type": "stream",
     "text": [
      "100%|██████████| 2/2 [01:04<00:00, 32.44s/it]\n",
      "100%|██████████| 1000/1000 [00:03<00:00, 277.91it/s]\n"
     ]
    },
    {
     "name": "stdout",
     "output_type": "stream",
     "text": [
      "Acc for frost = (before) tensor([0.6170]), (after) tensor([0.7070]), improvement: tensor([0.0900])\n"
     ]
    },
    {
     "name": "stderr",
     "output_type": "stream",
     "text": [
      "  0%|          | 0/2 [00:00<?, ?it/s]"
     ]
    },
    {
     "data": {
      "application/vnd.jupyter.widget-view+json": {
       "model_id": "8f1bccfa8aa04144aa47aaee64d0088b",
       "version_major": 2,
       "version_minor": 0
      },
      "text/plain": [
       "sampling loop time step:   0%|          | 0/1000 [00:00<?, ?it/s]"
      ]
     },
     "metadata": {},
     "output_type": "display_data"
    },
    {
     "name": "stderr",
     "output_type": "stream",
     "text": [
      " 50%|█████     | 1/2 [00:33<00:33, 33.09s/it]"
     ]
    },
    {
     "data": {
      "application/vnd.jupyter.widget-view+json": {
       "model_id": "a9c84f4837164f39995eb6a844031722",
       "version_major": 2,
       "version_minor": 0
      },
      "text/plain": [
       "sampling loop time step:   0%|          | 0/1000 [00:00<?, ?it/s]"
      ]
     },
     "metadata": {},
     "output_type": "display_data"
    },
    {
     "name": "stderr",
     "output_type": "stream",
     "text": [
      "100%|██████████| 2/2 [01:04<00:00, 32.42s/it]\n",
      "100%|██████████| 1000/1000 [00:03<00:00, 277.58it/s]\n"
     ]
    },
    {
     "name": "stdout",
     "output_type": "stream",
     "text": [
      "Acc for fog = (before) tensor([0.7490]), (after) tensor([0.7730]), improvement: tensor([0.0240])\n"
     ]
    },
    {
     "name": "stderr",
     "output_type": "stream",
     "text": [
      "  0%|          | 0/2 [00:00<?, ?it/s]"
     ]
    },
    {
     "data": {
      "application/vnd.jupyter.widget-view+json": {
       "model_id": "f3bd1c384bb248668d7946f063dc3dcd",
       "version_major": 2,
       "version_minor": 0
      },
      "text/plain": [
       "sampling loop time step:   0%|          | 0/1000 [00:00<?, ?it/s]"
      ]
     },
     "metadata": {},
     "output_type": "display_data"
    },
    {
     "name": "stderr",
     "output_type": "stream",
     "text": [
      " 50%|█████     | 1/2 [00:33<00:33, 33.11s/it]"
     ]
    },
    {
     "data": {
      "application/vnd.jupyter.widget-view+json": {
       "model_id": "343550a554294c889a26ccaf74116c02",
       "version_major": 2,
       "version_minor": 0
      },
      "text/plain": [
       "sampling loop time step:   0%|          | 0/1000 [00:00<?, ?it/s]"
      ]
     },
     "metadata": {},
     "output_type": "display_data"
    },
    {
     "name": "stderr",
     "output_type": "stream",
     "text": [
      "100%|██████████| 2/2 [01:04<00:00, 32.44s/it]\n",
      "100%|██████████| 1000/1000 [00:03<00:00, 279.06it/s]\n"
     ]
    },
    {
     "name": "stdout",
     "output_type": "stream",
     "text": [
      "Acc for brightness = (before) tensor([0.9090]), (after) tensor([0.8860]), improvement: tensor([-0.0230])\n"
     ]
    },
    {
     "name": "stderr",
     "output_type": "stream",
     "text": [
      "  0%|          | 0/2 [00:00<?, ?it/s]"
     ]
    },
    {
     "data": {
      "application/vnd.jupyter.widget-view+json": {
       "model_id": "9aa209d701fa4872b67cfb989237b1d2",
       "version_major": 2,
       "version_minor": 0
      },
      "text/plain": [
       "sampling loop time step:   0%|          | 0/1000 [00:00<?, ?it/s]"
      ]
     },
     "metadata": {},
     "output_type": "display_data"
    },
    {
     "name": "stderr",
     "output_type": "stream",
     "text": [
      " 50%|█████     | 1/2 [00:33<00:33, 33.12s/it]"
     ]
    },
    {
     "data": {
      "application/vnd.jupyter.widget-view+json": {
       "model_id": "6a3b103d3c354a468cda2f4c1273ad70",
       "version_major": 2,
       "version_minor": 0
      },
      "text/plain": [
       "sampling loop time step:   0%|          | 0/1000 [00:00<?, ?it/s]"
      ]
     },
     "metadata": {},
     "output_type": "display_data"
    },
    {
     "name": "stderr",
     "output_type": "stream",
     "text": [
      "100%|██████████| 2/2 [01:04<00:00, 32.44s/it]\n",
      "100%|██████████| 1000/1000 [00:03<00:00, 280.35it/s]\n"
     ]
    },
    {
     "name": "stdout",
     "output_type": "stream",
     "text": [
      "Acc for contrast = (before) tensor([0.5290]), (after) tensor([0.6360]), improvement: tensor([0.1070])\n"
     ]
    },
    {
     "name": "stderr",
     "output_type": "stream",
     "text": [
      "  0%|          | 0/2 [00:00<?, ?it/s]"
     ]
    },
    {
     "data": {
      "application/vnd.jupyter.widget-view+json": {
       "model_id": "ba2a2d541257419ea7b92e7ca3b76ef3",
       "version_major": 2,
       "version_minor": 0
      },
      "text/plain": [
       "sampling loop time step:   0%|          | 0/1000 [00:00<?, ?it/s]"
      ]
     },
     "metadata": {},
     "output_type": "display_data"
    },
    {
     "name": "stderr",
     "output_type": "stream",
     "text": [
      " 50%|█████     | 1/2 [00:33<00:33, 33.07s/it]"
     ]
    },
    {
     "data": {
      "application/vnd.jupyter.widget-view+json": {
       "model_id": "84e9a3239f844c0799b72365cc02f5f8",
       "version_major": 2,
       "version_minor": 0
      },
      "text/plain": [
       "sampling loop time step:   0%|          | 0/1000 [00:00<?, ?it/s]"
      ]
     },
     "metadata": {},
     "output_type": "display_data"
    },
    {
     "name": "stderr",
     "output_type": "stream",
     "text": [
      "100%|██████████| 2/2 [01:04<00:00, 32.42s/it]\n",
      "100%|██████████| 1000/1000 [00:03<00:00, 274.25it/s]\n"
     ]
    },
    {
     "name": "stdout",
     "output_type": "stream",
     "text": [
      "Acc for elastic_transform = (before) tensor([0.7260]), (after) tensor([0.7270]), improvement: tensor([0.0010])\n"
     ]
    },
    {
     "name": "stderr",
     "output_type": "stream",
     "text": [
      "  0%|          | 0/2 [00:00<?, ?it/s]"
     ]
    },
    {
     "data": {
      "application/vnd.jupyter.widget-view+json": {
       "model_id": "a08d18e9bdd5475282c591158ff0c15b",
       "version_major": 2,
       "version_minor": 0
      },
      "text/plain": [
       "sampling loop time step:   0%|          | 0/1000 [00:00<?, ?it/s]"
      ]
     },
     "metadata": {},
     "output_type": "display_data"
    },
    {
     "name": "stderr",
     "output_type": "stream",
     "text": [
      " 50%|█████     | 1/2 [00:33<00:33, 33.09s/it]"
     ]
    },
    {
     "data": {
      "application/vnd.jupyter.widget-view+json": {
       "model_id": "4e6a9fa648214160b034679147f44328",
       "version_major": 2,
       "version_minor": 0
      },
      "text/plain": [
       "sampling loop time step:   0%|          | 0/1000 [00:00<?, ?it/s]"
      ]
     },
     "metadata": {},
     "output_type": "display_data"
    },
    {
     "name": "stderr",
     "output_type": "stream",
     "text": [
      "100%|██████████| 2/2 [01:04<00:00, 32.42s/it]\n",
      "100%|██████████| 1000/1000 [00:03<00:00, 276.33it/s]\n"
     ]
    },
    {
     "name": "stdout",
     "output_type": "stream",
     "text": [
      "Acc for pixelate = (before) tensor([0.4080]), (after) tensor([0.5830]), improvement: tensor([0.1750])\n"
     ]
    },
    {
     "name": "stderr",
     "output_type": "stream",
     "text": [
      "  0%|          | 0/2 [00:00<?, ?it/s]"
     ]
    },
    {
     "data": {
      "application/vnd.jupyter.widget-view+json": {
       "model_id": "aefbdc57dbfb4bfa85779881ccac0b5f",
       "version_major": 2,
       "version_minor": 0
      },
      "text/plain": [
       "sampling loop time step:   0%|          | 0/1000 [00:00<?, ?it/s]"
      ]
     },
     "metadata": {},
     "output_type": "display_data"
    },
    {
     "name": "stderr",
     "output_type": "stream",
     "text": [
      " 50%|█████     | 1/2 [00:33<00:33, 33.11s/it]"
     ]
    },
    {
     "data": {
      "application/vnd.jupyter.widget-view+json": {
       "model_id": "3e8abcc64c564f22b534c7d9be6a3732",
       "version_major": 2,
       "version_minor": 0
      },
      "text/plain": [
       "sampling loop time step:   0%|          | 0/1000 [00:00<?, ?it/s]"
      ]
     },
     "metadata": {},
     "output_type": "display_data"
    },
    {
     "name": "stderr",
     "output_type": "stream",
     "text": [
      "100%|██████████| 2/2 [01:04<00:00, 32.42s/it]\n",
      "100%|██████████| 1000/1000 [00:03<00:00, 276.26it/s]"
     ]
    },
    {
     "name": "stdout",
     "output_type": "stream",
     "text": [
      "Acc for jpeg_compression = (before) tensor([0.7180]), (after) tensor([0.6780]), improvement: tensor([-0.0400])\n"
     ]
    },
    {
     "name": "stderr",
     "output_type": "stream",
     "text": [
      "\n"
     ]
    }
   ],
   "source": [
    "corrs = [\"clean\",\"gaussian_noise\",\"shot_noise\",\"impulse_noise\", \n",
    "        \"defocus_blur\",\"glass_blur\",\"motion_blur\",\"zoom_blur\",\n",
    "        \"snow\",\"frost\", \"fog\",\n",
    "        \"brightness\", \"contrast\",\"elastic_transform\",\"pixelate\",\"jpeg_compression\"]\n",
    "accs = {corr : [] for corr in corrs}\n",
    "aug_accs = {corr : [] for corr in corrs}\n",
    "\n",
    "og_model = load_model(model_name='Standard',dataset='cifar10',threat_model='corruptions').eval().cuda()\n",
    "og_params = OrderedDict((key, value.cpu()) for key, value in og_model.state_dict().items() if key in ['bn1.weight','bn1.bias'])\n",
    "og_params = torch.cat([param.flatten() for param in og_params.values()])\n",
    "\n",
    "for corr_i,corr in enumerate(corrs):\n",
    "    test_model = load_model(model_name='Standard',dataset='cifar10',threat_model='corruptions').eval().cuda()\n",
    "    \n",
    "    # get data for specific corruption\n",
    "    if corr == 'clean':\n",
    "        x_clean, y_clean = x_clean,y_clean = load_cifar10(1000)\n",
    "        test_ds = TensorDataset(x_clean,y_clean)\n",
    "    else:\n",
    "        train_ds, val_ds, test_ds = get_cifar10c_data([corrs[corr_i]],1000)\n",
    "        test_ds = Subset(test_ds,torch.arange(1000))\n",
    "    dl_t = DataLoader(test_ds,batch_size=512)\n",
    "\n",
    "    # add a hook to the model to get the activations right before bn\n",
    "    test_model.bn1.register_forward_hook(get_activation('bn1'))\n",
    "\n",
    "    generated_params = []\n",
    "    # for every sample, collect the activations and then pass through diff model\n",
    "    with torch.no_grad():\n",
    "        for batch_idx, (data,target) in enumerate(tqdm(dl_t)):\n",
    "            # parse the batch and send to device\n",
    "            data,target = data.to('cuda'),target.to('cuda')\n",
    "\n",
    "            # forward pass\n",
    "            out = test_model(data)\n",
    "            input_activations = activations['bn1']\n",
    "\n",
    "            # get the diffusion outputs for these embeddings\n",
    "            # cat_params = copy.deepcopy(og_params)\n",
    "            # cat_params = cat_params.unsqueeze(0).repeat(input_activations.shape[0], 1)\n",
    "            # input_activations = torch.cat([input_activations,cat_params.cuda()],dim=1)\n",
    "            generated_params.append(trainer.model.sample(input_activations, cond_scale=3.))\n",
    "\n",
    "    generated_params = torch.cat(generated_params)\n",
    "    \n",
    "    dl_t = DataLoader(test_ds,batch_size=1)\n",
    "    num_correct = 0\n",
    "    aug_num_correct = 0\n",
    "    total = 0\n",
    "    aug_model = copy.deepcopy(test_model)\n",
    "    with torch.no_grad():\n",
    "        for batch_idx, (data,target) in enumerate(tqdm(dl_t)):\n",
    "            data,target = data.to('cuda'),target.to('cuda')\n",
    "\n",
    "            # og model\n",
    "            out = test_model(data)\n",
    "            pred = out.argmax(dim=1).to('cpu')\n",
    "            num_correct += (pred == target.to('cpu'))\n",
    "\n",
    "            # aug model\n",
    "            params = generated_params[batch_idx]\n",
    "            aug_model = put_back_params(aug_model,params)\n",
    "            aug_model = aug_model.eval()\n",
    "\n",
    "            out = aug_model(data)\n",
    "            pred = out.argmax(dim=1).to('cpu')\n",
    "            aug_num_correct += (pred == target.to('cpu'))\n",
    "            total += 1\n",
    "\n",
    "    acc = num_correct/total\n",
    "    aug_acc = aug_num_correct/total\n",
    "    \n",
    "    print(f\"Acc for {corr} = (before) {acc}, (after) {aug_acc}, improvement: {aug_acc-acc}\")\n",
    "    accs[corr].append(acc.item())\n",
    "    aug_accs[corr].append(aug_acc.item())"
   ]
  },
  {
   "cell_type": "markdown",
   "metadata": {},
   "source": [
    "diffusion ensemble"
   ]
  },
  {
   "cell_type": "code",
   "execution_count": 14,
   "metadata": {},
   "outputs": [
    {
     "name": "stdout",
     "output_type": "stream",
     "text": [
      "Files already downloaded and verified\n"
     ]
    },
    {
     "name": "stderr",
     "output_type": "stream",
     "text": [
      "  0%|          | 0/2 [00:00<?, ?it/s]"
     ]
    },
    {
     "data": {
      "application/vnd.jupyter.widget-view+json": {
       "model_id": "af6e2595535f48abb3d821592d87629c",
       "version_major": 2,
       "version_minor": 0
      },
      "text/plain": [
       "sampling loop time step:   0%|          | 0/1000 [00:00<?, ?it/s]"
      ]
     },
     "metadata": {},
     "output_type": "display_data"
    },
    {
     "data": {
      "application/vnd.jupyter.widget-view+json": {
       "model_id": "92b09616dd794d69aef37e38be95d93b",
       "version_major": 2,
       "version_minor": 0
      },
      "text/plain": [
       "sampling loop time step:   0%|          | 0/1000 [00:00<?, ?it/s]"
      ]
     },
     "metadata": {},
     "output_type": "display_data"
    },
    {
     "data": {
      "application/vnd.jupyter.widget-view+json": {
       "model_id": "26694ff9f1ef42209944b9a11c5f030a",
       "version_major": 2,
       "version_minor": 0
      },
      "text/plain": [
       "sampling loop time step:   0%|          | 0/1000 [00:00<?, ?it/s]"
      ]
     },
     "metadata": {},
     "output_type": "display_data"
    },
    {
     "name": "stderr",
     "output_type": "stream",
     "text": [
      " 50%|█████     | 1/2 [01:38<01:38, 98.76s/it]"
     ]
    },
    {
     "data": {
      "application/vnd.jupyter.widget-view+json": {
       "model_id": "e00e9c3b485149698714b7389de804eb",
       "version_major": 2,
       "version_minor": 0
      },
      "text/plain": [
       "sampling loop time step:   0%|          | 0/1000 [00:00<?, ?it/s]"
      ]
     },
     "metadata": {},
     "output_type": "display_data"
    },
    {
     "data": {
      "application/vnd.jupyter.widget-view+json": {
       "model_id": "bcb92c0d63574250936c89e5b0d0ca3e",
       "version_major": 2,
       "version_minor": 0
      },
      "text/plain": [
       "sampling loop time step:   0%|          | 0/1000 [00:00<?, ?it/s]"
      ]
     },
     "metadata": {},
     "output_type": "display_data"
    },
    {
     "data": {
      "application/vnd.jupyter.widget-view+json": {
       "model_id": "5df09dd50d8d45c78d21d8d1c0614b53",
       "version_major": 2,
       "version_minor": 0
      },
      "text/plain": [
       "sampling loop time step:   0%|          | 0/1000 [00:00<?, ?it/s]"
      ]
     },
     "metadata": {},
     "output_type": "display_data"
    },
    {
     "name": "stderr",
     "output_type": "stream",
     "text": [
      "100%|██████████| 2/2 [03:13<00:00, 96.96s/it]\n",
      "100%|██████████| 1000/1000 [00:07<00:00, 138.78it/s]\n"
     ]
    },
    {
     "name": "stdout",
     "output_type": "stream",
     "text": [
      "Acc for clean = (before) tensor([0.9480]), (after) tensor([0.9340]), improvement: tensor([-0.0140])\n"
     ]
    },
    {
     "name": "stderr",
     "output_type": "stream",
     "text": [
      "  0%|          | 0/2 [00:00<?, ?it/s]"
     ]
    },
    {
     "data": {
      "application/vnd.jupyter.widget-view+json": {
       "model_id": "6a435a76e7454220be618bffd2a7ab3c",
       "version_major": 2,
       "version_minor": 0
      },
      "text/plain": [
       "sampling loop time step:   0%|          | 0/1000 [00:00<?, ?it/s]"
      ]
     },
     "metadata": {},
     "output_type": "display_data"
    },
    {
     "data": {
      "application/vnd.jupyter.widget-view+json": {
       "model_id": "c878449f3fa04dc0b0f435274acac776",
       "version_major": 2,
       "version_minor": 0
      },
      "text/plain": [
       "sampling loop time step:   0%|          | 0/1000 [00:00<?, ?it/s]"
      ]
     },
     "metadata": {},
     "output_type": "display_data"
    },
    {
     "data": {
      "application/vnd.jupyter.widget-view+json": {
       "model_id": "95c72d222ed14321a6a0edbcf5583615",
       "version_major": 2,
       "version_minor": 0
      },
      "text/plain": [
       "sampling loop time step:   0%|          | 0/1000 [00:00<?, ?it/s]"
      ]
     },
     "metadata": {},
     "output_type": "display_data"
    },
    {
     "name": "stderr",
     "output_type": "stream",
     "text": [
      " 50%|█████     | 1/2 [01:39<01:39, 99.14s/it]"
     ]
    },
    {
     "data": {
      "application/vnd.jupyter.widget-view+json": {
       "model_id": "596aa6a656a942bf9356cc6279d0c2cf",
       "version_major": 2,
       "version_minor": 0
      },
      "text/plain": [
       "sampling loop time step:   0%|          | 0/1000 [00:00<?, ?it/s]"
      ]
     },
     "metadata": {},
     "output_type": "display_data"
    },
    {
     "data": {
      "application/vnd.jupyter.widget-view+json": {
       "model_id": "694083ab71044abda5aa0e3c9191423d",
       "version_major": 2,
       "version_minor": 0
      },
      "text/plain": [
       "sampling loop time step:   0%|          | 0/1000 [00:00<?, ?it/s]"
      ]
     },
     "metadata": {},
     "output_type": "display_data"
    },
    {
     "data": {
      "application/vnd.jupyter.widget-view+json": {
       "model_id": "a31e039f03a441329197a4e51775b020",
       "version_major": 2,
       "version_minor": 0
      },
      "text/plain": [
       "sampling loop time step:   0%|          | 0/1000 [00:00<?, ?it/s]"
      ]
     },
     "metadata": {},
     "output_type": "display_data"
    },
    {
     "name": "stderr",
     "output_type": "stream",
     "text": [
      "100%|██████████| 2/2 [03:14<00:00, 97.20s/it]\n",
      "100%|██████████| 1000/1000 [00:07<00:00, 139.23it/s]\n"
     ]
    },
    {
     "name": "stdout",
     "output_type": "stream",
     "text": [
      "Acc for gaussian_noise = (before) tensor([0.2790]), (after) tensor([0.4650]), improvement: tensor([0.1860])\n"
     ]
    },
    {
     "name": "stderr",
     "output_type": "stream",
     "text": [
      "  0%|          | 0/2 [00:00<?, ?it/s]"
     ]
    },
    {
     "data": {
      "application/vnd.jupyter.widget-view+json": {
       "model_id": "9f9793531c4e450e82864916c4a9d9ae",
       "version_major": 2,
       "version_minor": 0
      },
      "text/plain": [
       "sampling loop time step:   0%|          | 0/1000 [00:00<?, ?it/s]"
      ]
     },
     "metadata": {},
     "output_type": "display_data"
    },
    {
     "data": {
      "application/vnd.jupyter.widget-view+json": {
       "model_id": "f02d19dece8643e7b7b35196b5101d55",
       "version_major": 2,
       "version_minor": 0
      },
      "text/plain": [
       "sampling loop time step:   0%|          | 0/1000 [00:00<?, ?it/s]"
      ]
     },
     "metadata": {},
     "output_type": "display_data"
    },
    {
     "data": {
      "application/vnd.jupyter.widget-view+json": {
       "model_id": "24bc10d800d54e719e2a78d326b0e21c",
       "version_major": 2,
       "version_minor": 0
      },
      "text/plain": [
       "sampling loop time step:   0%|          | 0/1000 [00:00<?, ?it/s]"
      ]
     },
     "metadata": {},
     "output_type": "display_data"
    },
    {
     "name": "stderr",
     "output_type": "stream",
     "text": [
      " 50%|█████     | 1/2 [01:39<01:39, 99.13s/it]"
     ]
    },
    {
     "data": {
      "application/vnd.jupyter.widget-view+json": {
       "model_id": "0c2fe5f2f3c2434d918dd2dcd5d787a6",
       "version_major": 2,
       "version_minor": 0
      },
      "text/plain": [
       "sampling loop time step:   0%|          | 0/1000 [00:00<?, ?it/s]"
      ]
     },
     "metadata": {},
     "output_type": "display_data"
    },
    {
     "data": {
      "application/vnd.jupyter.widget-view+json": {
       "model_id": "b239ff27b8a74691a8956be9358384c3",
       "version_major": 2,
       "version_minor": 0
      },
      "text/plain": [
       "sampling loop time step:   0%|          | 0/1000 [00:00<?, ?it/s]"
      ]
     },
     "metadata": {},
     "output_type": "display_data"
    },
    {
     "data": {
      "application/vnd.jupyter.widget-view+json": {
       "model_id": "d09459b327924f5aa6aafeb38da7b18b",
       "version_major": 2,
       "version_minor": 0
      },
      "text/plain": [
       "sampling loop time step:   0%|          | 0/1000 [00:00<?, ?it/s]"
      ]
     },
     "metadata": {},
     "output_type": "display_data"
    },
    {
     "name": "stderr",
     "output_type": "stream",
     "text": [
      "100%|██████████| 2/2 [03:14<00:00, 97.23s/it]\n",
      "100%|██████████| 1000/1000 [00:07<00:00, 141.00it/s]\n"
     ]
    },
    {
     "name": "stdout",
     "output_type": "stream",
     "text": [
      "Acc for shot_noise = (before) tensor([0.3550]), (after) tensor([0.5120]), improvement: tensor([0.1570])\n"
     ]
    },
    {
     "name": "stderr",
     "output_type": "stream",
     "text": [
      "  0%|          | 0/2 [00:00<?, ?it/s]"
     ]
    },
    {
     "data": {
      "application/vnd.jupyter.widget-view+json": {
       "model_id": "8f440646c14f40cd8ba1b613c88fd407",
       "version_major": 2,
       "version_minor": 0
      },
      "text/plain": [
       "sampling loop time step:   0%|          | 0/1000 [00:00<?, ?it/s]"
      ]
     },
     "metadata": {},
     "output_type": "display_data"
    },
    {
     "data": {
      "application/vnd.jupyter.widget-view+json": {
       "model_id": "fef6b303a70c42f38ff27659c0b00546",
       "version_major": 2,
       "version_minor": 0
      },
      "text/plain": [
       "sampling loop time step:   0%|          | 0/1000 [00:00<?, ?it/s]"
      ]
     },
     "metadata": {},
     "output_type": "display_data"
    },
    {
     "data": {
      "application/vnd.jupyter.widget-view+json": {
       "model_id": "9f9ff719d652409b95c693877a8c4d55",
       "version_major": 2,
       "version_minor": 0
      },
      "text/plain": [
       "sampling loop time step:   0%|          | 0/1000 [00:00<?, ?it/s]"
      ]
     },
     "metadata": {},
     "output_type": "display_data"
    },
    {
     "name": "stderr",
     "output_type": "stream",
     "text": [
      " 50%|█████     | 1/2 [01:38<01:38, 98.99s/it]"
     ]
    },
    {
     "data": {
      "application/vnd.jupyter.widget-view+json": {
       "model_id": "c997ce59aef447238a05c5cea391b6de",
       "version_major": 2,
       "version_minor": 0
      },
      "text/plain": [
       "sampling loop time step:   0%|          | 0/1000 [00:00<?, ?it/s]"
      ]
     },
     "metadata": {},
     "output_type": "display_data"
    },
    {
     "data": {
      "application/vnd.jupyter.widget-view+json": {
       "model_id": "22d7ac483c0146c5a7b6a2f2972ef509",
       "version_major": 2,
       "version_minor": 0
      },
      "text/plain": [
       "sampling loop time step:   0%|          | 0/1000 [00:00<?, ?it/s]"
      ]
     },
     "metadata": {},
     "output_type": "display_data"
    },
    {
     "data": {
      "application/vnd.jupyter.widget-view+json": {
       "model_id": "27b1f69783b041f49df1dc69d069b55b",
       "version_major": 2,
       "version_minor": 0
      },
      "text/plain": [
       "sampling loop time step:   0%|          | 0/1000 [00:00<?, ?it/s]"
      ]
     },
     "metadata": {},
     "output_type": "display_data"
    },
    {
     "name": "stderr",
     "output_type": "stream",
     "text": [
      "100%|██████████| 2/2 [03:14<00:00, 97.10s/it]\n",
      "100%|██████████| 1000/1000 [00:06<00:00, 150.28it/s]\n"
     ]
    },
    {
     "name": "stdout",
     "output_type": "stream",
     "text": [
      "Acc for impulse_noise = (before) tensor([0.2760]), (after) tensor([0.3040]), improvement: tensor([0.0280])\n"
     ]
    },
    {
     "name": "stderr",
     "output_type": "stream",
     "text": [
      "  0%|          | 0/2 [00:00<?, ?it/s]"
     ]
    },
    {
     "data": {
      "application/vnd.jupyter.widget-view+json": {
       "model_id": "1908a90d71ff4807aee3a0d8ecb39535",
       "version_major": 2,
       "version_minor": 0
      },
      "text/plain": [
       "sampling loop time step:   0%|          | 0/1000 [00:00<?, ?it/s]"
      ]
     },
     "metadata": {},
     "output_type": "display_data"
    },
    {
     "data": {
      "application/vnd.jupyter.widget-view+json": {
       "model_id": "aacb44e6ad81489fa079ba8885bd66d8",
       "version_major": 2,
       "version_minor": 0
      },
      "text/plain": [
       "sampling loop time step:   0%|          | 0/1000 [00:00<?, ?it/s]"
      ]
     },
     "metadata": {},
     "output_type": "display_data"
    },
    {
     "data": {
      "application/vnd.jupyter.widget-view+json": {
       "model_id": "a7b737f00a8c4b61867425e700d5a7ac",
       "version_major": 2,
       "version_minor": 0
      },
      "text/plain": [
       "sampling loop time step:   0%|          | 0/1000 [00:00<?, ?it/s]"
      ]
     },
     "metadata": {},
     "output_type": "display_data"
    },
    {
     "name": "stderr",
     "output_type": "stream",
     "text": [
      " 50%|█████     | 1/2 [01:38<01:38, 98.95s/it]"
     ]
    },
    {
     "data": {
      "application/vnd.jupyter.widget-view+json": {
       "model_id": "6d0ae814c64a4cd88892ec391b30cb19",
       "version_major": 2,
       "version_minor": 0
      },
      "text/plain": [
       "sampling loop time step:   0%|          | 0/1000 [00:00<?, ?it/s]"
      ]
     },
     "metadata": {},
     "output_type": "display_data"
    },
    {
     "data": {
      "application/vnd.jupyter.widget-view+json": {
       "model_id": "023a43fe906f483da4053f75687d8d64",
       "version_major": 2,
       "version_minor": 0
      },
      "text/plain": [
       "sampling loop time step:   0%|          | 0/1000 [00:00<?, ?it/s]"
      ]
     },
     "metadata": {},
     "output_type": "display_data"
    },
    {
     "data": {
      "application/vnd.jupyter.widget-view+json": {
       "model_id": "5bfd7d93e37d4cdba41333ad8cb106ec",
       "version_major": 2,
       "version_minor": 0
      },
      "text/plain": [
       "sampling loop time step:   0%|          | 0/1000 [00:00<?, ?it/s]"
      ]
     },
     "metadata": {},
     "output_type": "display_data"
    },
    {
     "name": "stderr",
     "output_type": "stream",
     "text": [
      "100%|██████████| 2/2 [03:14<00:00, 97.10s/it]\n",
      "100%|██████████| 1000/1000 [00:06<00:00, 150.09it/s]\n"
     ]
    },
    {
     "name": "stdout",
     "output_type": "stream",
     "text": [
      "Acc for defocus_blur = (before) tensor([0.5340]), (after) tensor([0.5650]), improvement: tensor([0.0310])\n"
     ]
    },
    {
     "name": "stderr",
     "output_type": "stream",
     "text": [
      "  0%|          | 0/2 [00:00<?, ?it/s]"
     ]
    },
    {
     "data": {
      "application/vnd.jupyter.widget-view+json": {
       "model_id": "9f6cd098afdd4e92a40bfc91ee68c9f4",
       "version_major": 2,
       "version_minor": 0
      },
      "text/plain": [
       "sampling loop time step:   0%|          | 0/1000 [00:00<?, ?it/s]"
      ]
     },
     "metadata": {},
     "output_type": "display_data"
    },
    {
     "data": {
      "application/vnd.jupyter.widget-view+json": {
       "model_id": "f16ed745407240d5b7d2ee9230a00151",
       "version_major": 2,
       "version_minor": 0
      },
      "text/plain": [
       "sampling loop time step:   0%|          | 0/1000 [00:00<?, ?it/s]"
      ]
     },
     "metadata": {},
     "output_type": "display_data"
    },
    {
     "data": {
      "application/vnd.jupyter.widget-view+json": {
       "model_id": "e918ded397c34f67b75a19d668dbbd07",
       "version_major": 2,
       "version_minor": 0
      },
      "text/plain": [
       "sampling loop time step:   0%|          | 0/1000 [00:00<?, ?it/s]"
      ]
     },
     "metadata": {},
     "output_type": "display_data"
    },
    {
     "name": "stderr",
     "output_type": "stream",
     "text": [
      " 50%|█████     | 1/2 [01:39<01:39, 99.01s/it]"
     ]
    },
    {
     "data": {
      "application/vnd.jupyter.widget-view+json": {
       "model_id": "40a4485da1a64cc9a2dd44d247031083",
       "version_major": 2,
       "version_minor": 0
      },
      "text/plain": [
       "sampling loop time step:   0%|          | 0/1000 [00:00<?, ?it/s]"
      ]
     },
     "metadata": {},
     "output_type": "display_data"
    },
    {
     "data": {
      "application/vnd.jupyter.widget-view+json": {
       "model_id": "460b2d2decae4e05830353c3eaf79983",
       "version_major": 2,
       "version_minor": 0
      },
      "text/plain": [
       "sampling loop time step:   0%|          | 0/1000 [00:00<?, ?it/s]"
      ]
     },
     "metadata": {},
     "output_type": "display_data"
    },
    {
     "data": {
      "application/vnd.jupyter.widget-view+json": {
       "model_id": "9fc14c019a6c465e82019a3afcd2414a",
       "version_major": 2,
       "version_minor": 0
      },
      "text/plain": [
       "sampling loop time step:   0%|          | 0/1000 [00:00<?, ?it/s]"
      ]
     },
     "metadata": {},
     "output_type": "display_data"
    },
    {
     "name": "stderr",
     "output_type": "stream",
     "text": [
      "100%|██████████| 2/2 [03:13<00:00, 96.95s/it]\n",
      "100%|██████████| 1000/1000 [00:06<00:00, 150.34it/s]\n"
     ]
    },
    {
     "name": "stdout",
     "output_type": "stream",
     "text": [
      "Acc for glass_blur = (before) tensor([0.4650]), (after) tensor([0.5630]), improvement: tensor([0.0980])\n"
     ]
    },
    {
     "name": "stderr",
     "output_type": "stream",
     "text": [
      "  0%|          | 0/2 [00:00<?, ?it/s]"
     ]
    },
    {
     "data": {
      "application/vnd.jupyter.widget-view+json": {
       "model_id": "fb2844171fef4140a2f3731d2c56f45f",
       "version_major": 2,
       "version_minor": 0
      },
      "text/plain": [
       "sampling loop time step:   0%|          | 0/1000 [00:00<?, ?it/s]"
      ]
     },
     "metadata": {},
     "output_type": "display_data"
    },
    {
     "data": {
      "application/vnd.jupyter.widget-view+json": {
       "model_id": "6c857677218d4838af2f73f4bf796151",
       "version_major": 2,
       "version_minor": 0
      },
      "text/plain": [
       "sampling loop time step:   0%|          | 0/1000 [00:00<?, ?it/s]"
      ]
     },
     "metadata": {},
     "output_type": "display_data"
    },
    {
     "data": {
      "application/vnd.jupyter.widget-view+json": {
       "model_id": "2471d35b93574d46884ca643178211cb",
       "version_major": 2,
       "version_minor": 0
      },
      "text/plain": [
       "sampling loop time step:   0%|          | 0/1000 [00:00<?, ?it/s]"
      ]
     },
     "metadata": {},
     "output_type": "display_data"
    },
    {
     "name": "stderr",
     "output_type": "stream",
     "text": [
      " 50%|█████     | 1/2 [01:38<01:38, 98.96s/it]"
     ]
    },
    {
     "data": {
      "application/vnd.jupyter.widget-view+json": {
       "model_id": "3a459e5316f84d10a92f3d7bb7985725",
       "version_major": 2,
       "version_minor": 0
      },
      "text/plain": [
       "sampling loop time step:   0%|          | 0/1000 [00:00<?, ?it/s]"
      ]
     },
     "metadata": {},
     "output_type": "display_data"
    },
    {
     "data": {
      "application/vnd.jupyter.widget-view+json": {
       "model_id": "a78136d17fa541fb8ee15d0b6dbdb1c2",
       "version_major": 2,
       "version_minor": 0
      },
      "text/plain": [
       "sampling loop time step:   0%|          | 0/1000 [00:00<?, ?it/s]"
      ]
     },
     "metadata": {},
     "output_type": "display_data"
    },
    {
     "data": {
      "application/vnd.jupyter.widget-view+json": {
       "model_id": "86b038472e17471ba718101895366d3f",
       "version_major": 2,
       "version_minor": 0
      },
      "text/plain": [
       "sampling loop time step:   0%|          | 0/1000 [00:00<?, ?it/s]"
      ]
     },
     "metadata": {},
     "output_type": "display_data"
    },
    {
     "name": "stderr",
     "output_type": "stream",
     "text": [
      "100%|██████████| 2/2 [03:13<00:00, 96.92s/it]\n",
      "100%|██████████| 1000/1000 [00:06<00:00, 150.36it/s]\n"
     ]
    },
    {
     "name": "stdout",
     "output_type": "stream",
     "text": [
      "Acc for motion_blur = (before) tensor([0.6500]), (after) tensor([0.7140]), improvement: tensor([0.0640])\n"
     ]
    },
    {
     "name": "stderr",
     "output_type": "stream",
     "text": [
      "  0%|          | 0/2 [00:00<?, ?it/s]"
     ]
    },
    {
     "data": {
      "application/vnd.jupyter.widget-view+json": {
       "model_id": "1bb98e0e99984ccb841a03b778a10bf3",
       "version_major": 2,
       "version_minor": 0
      },
      "text/plain": [
       "sampling loop time step:   0%|          | 0/1000 [00:00<?, ?it/s]"
      ]
     },
     "metadata": {},
     "output_type": "display_data"
    },
    {
     "data": {
      "application/vnd.jupyter.widget-view+json": {
       "model_id": "7ff3c1bb7ea242b1a375fcd379e45aca",
       "version_major": 2,
       "version_minor": 0
      },
      "text/plain": [
       "sampling loop time step:   0%|          | 0/1000 [00:00<?, ?it/s]"
      ]
     },
     "metadata": {},
     "output_type": "display_data"
    },
    {
     "data": {
      "application/vnd.jupyter.widget-view+json": {
       "model_id": "6e0a1db9560947abbbe132029d9a97ff",
       "version_major": 2,
       "version_minor": 0
      },
      "text/plain": [
       "sampling loop time step:   0%|          | 0/1000 [00:00<?, ?it/s]"
      ]
     },
     "metadata": {},
     "output_type": "display_data"
    },
    {
     "name": "stderr",
     "output_type": "stream",
     "text": [
      " 50%|█████     | 1/2 [01:38<01:38, 98.99s/it]"
     ]
    },
    {
     "data": {
      "application/vnd.jupyter.widget-view+json": {
       "model_id": "826679c43fa84a29951db8dc9016b409",
       "version_major": 2,
       "version_minor": 0
      },
      "text/plain": [
       "sampling loop time step:   0%|          | 0/1000 [00:00<?, ?it/s]"
      ]
     },
     "metadata": {},
     "output_type": "display_data"
    },
    {
     "data": {
      "application/vnd.jupyter.widget-view+json": {
       "model_id": "ba44bd9738b947ef9dd9d2c35aa6944f",
       "version_major": 2,
       "version_minor": 0
      },
      "text/plain": [
       "sampling loop time step:   0%|          | 0/1000 [00:00<?, ?it/s]"
      ]
     },
     "metadata": {},
     "output_type": "display_data"
    },
    {
     "data": {
      "application/vnd.jupyter.widget-view+json": {
       "model_id": "2f6afa3c19ef4db19841e2ad5b7e4cfa",
       "version_major": 2,
       "version_minor": 0
      },
      "text/plain": [
       "sampling loop time step:   0%|          | 0/1000 [00:00<?, ?it/s]"
      ]
     },
     "metadata": {},
     "output_type": "display_data"
    },
    {
     "name": "stderr",
     "output_type": "stream",
     "text": [
      "100%|██████████| 2/2 [03:13<00:00, 96.94s/it]\n",
      "100%|██████████| 1000/1000 [00:06<00:00, 150.61it/s]\n"
     ]
    },
    {
     "name": "stdout",
     "output_type": "stream",
     "text": [
      "Acc for zoom_blur = (before) tensor([0.5760]), (after) tensor([0.6050]), improvement: tensor([0.0290])\n"
     ]
    },
    {
     "name": "stderr",
     "output_type": "stream",
     "text": [
      "  0%|          | 0/2 [00:00<?, ?it/s]"
     ]
    },
    {
     "data": {
      "application/vnd.jupyter.widget-view+json": {
       "model_id": "655e1d2e91124974a8e15f0c184958d4",
       "version_major": 2,
       "version_minor": 0
      },
      "text/plain": [
       "sampling loop time step:   0%|          | 0/1000 [00:00<?, ?it/s]"
      ]
     },
     "metadata": {},
     "output_type": "display_data"
    },
    {
     "data": {
      "application/vnd.jupyter.widget-view+json": {
       "model_id": "a45c161720d3417b97125a397c5c2b5b",
       "version_major": 2,
       "version_minor": 0
      },
      "text/plain": [
       "sampling loop time step:   0%|          | 0/1000 [00:00<?, ?it/s]"
      ]
     },
     "metadata": {},
     "output_type": "display_data"
    },
    {
     "data": {
      "application/vnd.jupyter.widget-view+json": {
       "model_id": "635fff9813964d17a36e27390c177c48",
       "version_major": 2,
       "version_minor": 0
      },
      "text/plain": [
       "sampling loop time step:   0%|          | 0/1000 [00:00<?, ?it/s]"
      ]
     },
     "metadata": {},
     "output_type": "display_data"
    },
    {
     "name": "stderr",
     "output_type": "stream",
     "text": [
      " 50%|█████     | 1/2 [01:39<01:39, 99.05s/it]"
     ]
    },
    {
     "data": {
      "application/vnd.jupyter.widget-view+json": {
       "model_id": "61d744ee6a934dde953a631f5b33a868",
       "version_major": 2,
       "version_minor": 0
      },
      "text/plain": [
       "sampling loop time step:   0%|          | 0/1000 [00:00<?, ?it/s]"
      ]
     },
     "metadata": {},
     "output_type": "display_data"
    },
    {
     "data": {
      "application/vnd.jupyter.widget-view+json": {
       "model_id": "8208fcf57fb2475da80fdb9acbb4361d",
       "version_major": 2,
       "version_minor": 0
      },
      "text/plain": [
       "sampling loop time step:   0%|          | 0/1000 [00:00<?, ?it/s]"
      ]
     },
     "metadata": {},
     "output_type": "display_data"
    },
    {
     "data": {
      "application/vnd.jupyter.widget-view+json": {
       "model_id": "94d649b0f1f046799edc15b5ac95c70d",
       "version_major": 2,
       "version_minor": 0
      },
      "text/plain": [
       "sampling loop time step:   0%|          | 0/1000 [00:00<?, ?it/s]"
      ]
     },
     "metadata": {},
     "output_type": "display_data"
    },
    {
     "name": "stderr",
     "output_type": "stream",
     "text": [
      "100%|██████████| 2/2 [03:13<00:00, 96.97s/it]\n",
      "100%|██████████| 1000/1000 [00:06<00:00, 150.52it/s]\n"
     ]
    },
    {
     "name": "stdout",
     "output_type": "stream",
     "text": [
      "Acc for snow = (before) tensor([0.7590]), (after) tensor([0.7680]), improvement: tensor([0.0090])\n"
     ]
    },
    {
     "name": "stderr",
     "output_type": "stream",
     "text": [
      "  0%|          | 0/2 [00:00<?, ?it/s]"
     ]
    },
    {
     "data": {
      "application/vnd.jupyter.widget-view+json": {
       "model_id": "b3ba9f65f74c4febb22283f46f3b4b0b",
       "version_major": 2,
       "version_minor": 0
      },
      "text/plain": [
       "sampling loop time step:   0%|          | 0/1000 [00:00<?, ?it/s]"
      ]
     },
     "metadata": {},
     "output_type": "display_data"
    },
    {
     "data": {
      "application/vnd.jupyter.widget-view+json": {
       "model_id": "cbb88fbf8d994443bb0152de9cb70038",
       "version_major": 2,
       "version_minor": 0
      },
      "text/plain": [
       "sampling loop time step:   0%|          | 0/1000 [00:00<?, ?it/s]"
      ]
     },
     "metadata": {},
     "output_type": "display_data"
    },
    {
     "data": {
      "application/vnd.jupyter.widget-view+json": {
       "model_id": "9236e123609b409b9e96451b2defdd7b",
       "version_major": 2,
       "version_minor": 0
      },
      "text/plain": [
       "sampling loop time step:   0%|          | 0/1000 [00:00<?, ?it/s]"
      ]
     },
     "metadata": {},
     "output_type": "display_data"
    },
    {
     "name": "stderr",
     "output_type": "stream",
     "text": [
      " 50%|█████     | 1/2 [01:38<01:38, 98.98s/it]"
     ]
    },
    {
     "data": {
      "application/vnd.jupyter.widget-view+json": {
       "model_id": "cfd3056b329846b5805e88b90b183e9a",
       "version_major": 2,
       "version_minor": 0
      },
      "text/plain": [
       "sampling loop time step:   0%|          | 0/1000 [00:00<?, ?it/s]"
      ]
     },
     "metadata": {},
     "output_type": "display_data"
    },
    {
     "data": {
      "application/vnd.jupyter.widget-view+json": {
       "model_id": "361c0422b8c541ee810c5e6c9b8487b9",
       "version_major": 2,
       "version_minor": 0
      },
      "text/plain": [
       "sampling loop time step:   0%|          | 0/1000 [00:00<?, ?it/s]"
      ]
     },
     "metadata": {},
     "output_type": "display_data"
    },
    {
     "data": {
      "application/vnd.jupyter.widget-view+json": {
       "model_id": "bf710531e4114fc283a897b622c65962",
       "version_major": 2,
       "version_minor": 0
      },
      "text/plain": [
       "sampling loop time step:   0%|          | 0/1000 [00:00<?, ?it/s]"
      ]
     },
     "metadata": {},
     "output_type": "display_data"
    },
    {
     "name": "stderr",
     "output_type": "stream",
     "text": [
      "100%|██████████| 2/2 [03:13<00:00, 96.91s/it]\n",
      "100%|██████████| 1000/1000 [00:06<00:00, 151.08it/s]\n"
     ]
    },
    {
     "name": "stdout",
     "output_type": "stream",
     "text": [
      "Acc for frost = (before) tensor([0.6170]), (after) tensor([0.7200]), improvement: tensor([0.1030])\n"
     ]
    },
    {
     "name": "stderr",
     "output_type": "stream",
     "text": [
      "  0%|          | 0/2 [00:00<?, ?it/s]"
     ]
    },
    {
     "data": {
      "application/vnd.jupyter.widget-view+json": {
       "model_id": "a8b58d75bcc941cdb1dfb99a7a88bd94",
       "version_major": 2,
       "version_minor": 0
      },
      "text/plain": [
       "sampling loop time step:   0%|          | 0/1000 [00:00<?, ?it/s]"
      ]
     },
     "metadata": {},
     "output_type": "display_data"
    },
    {
     "data": {
      "application/vnd.jupyter.widget-view+json": {
       "model_id": "5e2cad0803fe45eeb49ed092d2a7535e",
       "version_major": 2,
       "version_minor": 0
      },
      "text/plain": [
       "sampling loop time step:   0%|          | 0/1000 [00:00<?, ?it/s]"
      ]
     },
     "metadata": {},
     "output_type": "display_data"
    },
    {
     "data": {
      "application/vnd.jupyter.widget-view+json": {
       "model_id": "b31158bfa91c47038ac432b1effb2bd6",
       "version_major": 2,
       "version_minor": 0
      },
      "text/plain": [
       "sampling loop time step:   0%|          | 0/1000 [00:00<?, ?it/s]"
      ]
     },
     "metadata": {},
     "output_type": "display_data"
    },
    {
     "name": "stderr",
     "output_type": "stream",
     "text": [
      " 50%|█████     | 1/2 [01:38<01:38, 98.99s/it]"
     ]
    },
    {
     "data": {
      "application/vnd.jupyter.widget-view+json": {
       "model_id": "e2ffa4d9f4c74ea1a8ef8a67d88360c9",
       "version_major": 2,
       "version_minor": 0
      },
      "text/plain": [
       "sampling loop time step:   0%|          | 0/1000 [00:00<?, ?it/s]"
      ]
     },
     "metadata": {},
     "output_type": "display_data"
    },
    {
     "data": {
      "application/vnd.jupyter.widget-view+json": {
       "model_id": "69132596490d477c83b7aea2459ce1b9",
       "version_major": 2,
       "version_minor": 0
      },
      "text/plain": [
       "sampling loop time step:   0%|          | 0/1000 [00:00<?, ?it/s]"
      ]
     },
     "metadata": {},
     "output_type": "display_data"
    },
    {
     "data": {
      "application/vnd.jupyter.widget-view+json": {
       "model_id": "43e73c22754e4e77900ff1d4be9f0b35",
       "version_major": 2,
       "version_minor": 0
      },
      "text/plain": [
       "sampling loop time step:   0%|          | 0/1000 [00:00<?, ?it/s]"
      ]
     },
     "metadata": {},
     "output_type": "display_data"
    },
    {
     "name": "stderr",
     "output_type": "stream",
     "text": [
      "100%|██████████| 2/2 [03:13<00:00, 96.90s/it]\n",
      "100%|██████████| 1000/1000 [00:06<00:00, 151.54it/s]\n"
     ]
    },
    {
     "name": "stdout",
     "output_type": "stream",
     "text": [
      "Acc for fog = (before) tensor([0.7490]), (after) tensor([0.7910]), improvement: tensor([0.0420])\n"
     ]
    },
    {
     "name": "stderr",
     "output_type": "stream",
     "text": [
      "  0%|          | 0/2 [00:00<?, ?it/s]"
     ]
    },
    {
     "data": {
      "application/vnd.jupyter.widget-view+json": {
       "model_id": "2b849ac60d404e56a2d3e0deb8646aa4",
       "version_major": 2,
       "version_minor": 0
      },
      "text/plain": [
       "sampling loop time step:   0%|          | 0/1000 [00:00<?, ?it/s]"
      ]
     },
     "metadata": {},
     "output_type": "display_data"
    },
    {
     "data": {
      "application/vnd.jupyter.widget-view+json": {
       "model_id": "666c61763f074e07aec29428fbd47d79",
       "version_major": 2,
       "version_minor": 0
      },
      "text/plain": [
       "sampling loop time step:   0%|          | 0/1000 [00:00<?, ?it/s]"
      ]
     },
     "metadata": {},
     "output_type": "display_data"
    },
    {
     "data": {
      "application/vnd.jupyter.widget-view+json": {
       "model_id": "de92a846bfe44c06a56f812333458944",
       "version_major": 2,
       "version_minor": 0
      },
      "text/plain": [
       "sampling loop time step:   0%|          | 0/1000 [00:00<?, ?it/s]"
      ]
     },
     "metadata": {},
     "output_type": "display_data"
    },
    {
     "name": "stderr",
     "output_type": "stream",
     "text": [
      " 50%|█████     | 1/2 [01:38<01:38, 99.00s/it]"
     ]
    },
    {
     "data": {
      "application/vnd.jupyter.widget-view+json": {
       "model_id": "38bd433b597646709f8d1b035e5c34c5",
       "version_major": 2,
       "version_minor": 0
      },
      "text/plain": [
       "sampling loop time step:   0%|          | 0/1000 [00:00<?, ?it/s]"
      ]
     },
     "metadata": {},
     "output_type": "display_data"
    },
    {
     "data": {
      "application/vnd.jupyter.widget-view+json": {
       "model_id": "7d83c42c39674ffab9378b1c6f8e0e77",
       "version_major": 2,
       "version_minor": 0
      },
      "text/plain": [
       "sampling loop time step:   0%|          | 0/1000 [00:00<?, ?it/s]"
      ]
     },
     "metadata": {},
     "output_type": "display_data"
    },
    {
     "data": {
      "application/vnd.jupyter.widget-view+json": {
       "model_id": "2ebf71bf85864bb49448eac02efcbc25",
       "version_major": 2,
       "version_minor": 0
      },
      "text/plain": [
       "sampling loop time step:   0%|          | 0/1000 [00:00<?, ?it/s]"
      ]
     },
     "metadata": {},
     "output_type": "display_data"
    },
    {
     "name": "stderr",
     "output_type": "stream",
     "text": [
      "100%|██████████| 2/2 [03:13<00:00, 96.93s/it]\n",
      "100%|██████████| 1000/1000 [00:06<00:00, 148.29it/s]\n"
     ]
    },
    {
     "name": "stdout",
     "output_type": "stream",
     "text": [
      "Acc for brightness = (before) tensor([0.9090]), (after) tensor([0.8910]), improvement: tensor([-0.0180])\n"
     ]
    },
    {
     "name": "stderr",
     "output_type": "stream",
     "text": [
      "  0%|          | 0/2 [00:00<?, ?it/s]"
     ]
    },
    {
     "data": {
      "application/vnd.jupyter.widget-view+json": {
       "model_id": "b3316535d3d84e428b206b947f0fa826",
       "version_major": 2,
       "version_minor": 0
      },
      "text/plain": [
       "sampling loop time step:   0%|          | 0/1000 [00:00<?, ?it/s]"
      ]
     },
     "metadata": {},
     "output_type": "display_data"
    },
    {
     "data": {
      "application/vnd.jupyter.widget-view+json": {
       "model_id": "1d640dfb6ccc4ec8aef97b2ad8985255",
       "version_major": 2,
       "version_minor": 0
      },
      "text/plain": [
       "sampling loop time step:   0%|          | 0/1000 [00:00<?, ?it/s]"
      ]
     },
     "metadata": {},
     "output_type": "display_data"
    },
    {
     "data": {
      "application/vnd.jupyter.widget-view+json": {
       "model_id": "4a7ab0a0822f4a7894430fa1a70d2f6b",
       "version_major": 2,
       "version_minor": 0
      },
      "text/plain": [
       "sampling loop time step:   0%|          | 0/1000 [00:00<?, ?it/s]"
      ]
     },
     "metadata": {},
     "output_type": "display_data"
    },
    {
     "name": "stderr",
     "output_type": "stream",
     "text": [
      " 50%|█████     | 1/2 [01:38<01:38, 98.95s/it]"
     ]
    },
    {
     "data": {
      "application/vnd.jupyter.widget-view+json": {
       "model_id": "6fd2ee34138442dc9507d0e124c63f19",
       "version_major": 2,
       "version_minor": 0
      },
      "text/plain": [
       "sampling loop time step:   0%|          | 0/1000 [00:00<?, ?it/s]"
      ]
     },
     "metadata": {},
     "output_type": "display_data"
    },
    {
     "data": {
      "application/vnd.jupyter.widget-view+json": {
       "model_id": "d71a2d724c804eb59693e6574fd7d082",
       "version_major": 2,
       "version_minor": 0
      },
      "text/plain": [
       "sampling loop time step:   0%|          | 0/1000 [00:00<?, ?it/s]"
      ]
     },
     "metadata": {},
     "output_type": "display_data"
    },
    {
     "data": {
      "application/vnd.jupyter.widget-view+json": {
       "model_id": "1ba4a53fb8fa402b9765fb05e5697314",
       "version_major": 2,
       "version_minor": 0
      },
      "text/plain": [
       "sampling loop time step:   0%|          | 0/1000 [00:00<?, ?it/s]"
      ]
     },
     "metadata": {},
     "output_type": "display_data"
    },
    {
     "name": "stderr",
     "output_type": "stream",
     "text": [
      "100%|██████████| 2/2 [03:13<00:00, 96.90s/it]\n",
      "100%|██████████| 1000/1000 [00:06<00:00, 149.62it/s]\n"
     ]
    },
    {
     "name": "stdout",
     "output_type": "stream",
     "text": [
      "Acc for contrast = (before) tensor([0.5290]), (after) tensor([0.6520]), improvement: tensor([0.1230])\n"
     ]
    },
    {
     "name": "stderr",
     "output_type": "stream",
     "text": [
      "  0%|          | 0/2 [00:00<?, ?it/s]"
     ]
    },
    {
     "data": {
      "application/vnd.jupyter.widget-view+json": {
       "model_id": "2965eda0b9e3444d9f6e48ff3a2d183b",
       "version_major": 2,
       "version_minor": 0
      },
      "text/plain": [
       "sampling loop time step:   0%|          | 0/1000 [00:00<?, ?it/s]"
      ]
     },
     "metadata": {},
     "output_type": "display_data"
    },
    {
     "data": {
      "application/vnd.jupyter.widget-view+json": {
       "model_id": "1aa32c05f5474d319de134315dace3ae",
       "version_major": 2,
       "version_minor": 0
      },
      "text/plain": [
       "sampling loop time step:   0%|          | 0/1000 [00:00<?, ?it/s]"
      ]
     },
     "metadata": {},
     "output_type": "display_data"
    },
    {
     "data": {
      "application/vnd.jupyter.widget-view+json": {
       "model_id": "62906a87d95e4126ba92e58b97d28e3d",
       "version_major": 2,
       "version_minor": 0
      },
      "text/plain": [
       "sampling loop time step:   0%|          | 0/1000 [00:00<?, ?it/s]"
      ]
     },
     "metadata": {},
     "output_type": "display_data"
    },
    {
     "name": "stderr",
     "output_type": "stream",
     "text": [
      " 50%|█████     | 1/2 [01:38<01:38, 98.94s/it]"
     ]
    },
    {
     "data": {
      "application/vnd.jupyter.widget-view+json": {
       "model_id": "b953c3f6e2a846aaa3d964279dce2544",
       "version_major": 2,
       "version_minor": 0
      },
      "text/plain": [
       "sampling loop time step:   0%|          | 0/1000 [00:00<?, ?it/s]"
      ]
     },
     "metadata": {},
     "output_type": "display_data"
    },
    {
     "data": {
      "application/vnd.jupyter.widget-view+json": {
       "model_id": "847fd4798ddc4bd3beed9b199aa0e9cc",
       "version_major": 2,
       "version_minor": 0
      },
      "text/plain": [
       "sampling loop time step:   0%|          | 0/1000 [00:00<?, ?it/s]"
      ]
     },
     "metadata": {},
     "output_type": "display_data"
    },
    {
     "data": {
      "application/vnd.jupyter.widget-view+json": {
       "model_id": "8d048f16ff9049c3a4685bb780353d8e",
       "version_major": 2,
       "version_minor": 0
      },
      "text/plain": [
       "sampling loop time step:   0%|          | 0/1000 [00:00<?, ?it/s]"
      ]
     },
     "metadata": {},
     "output_type": "display_data"
    },
    {
     "name": "stderr",
     "output_type": "stream",
     "text": [
      "100%|██████████| 2/2 [03:13<00:00, 96.89s/it]\n",
      "100%|██████████| 1000/1000 [00:06<00:00, 150.36it/s]\n"
     ]
    },
    {
     "name": "stdout",
     "output_type": "stream",
     "text": [
      "Acc for elastic_transform = (before) tensor([0.7260]), (after) tensor([0.7300]), improvement: tensor([0.0040])\n"
     ]
    },
    {
     "name": "stderr",
     "output_type": "stream",
     "text": [
      "  0%|          | 0/2 [00:00<?, ?it/s]"
     ]
    },
    {
     "data": {
      "application/vnd.jupyter.widget-view+json": {
       "model_id": "7be4b1afbf5a4d23b0a65a5b97a4130b",
       "version_major": 2,
       "version_minor": 0
      },
      "text/plain": [
       "sampling loop time step:   0%|          | 0/1000 [00:00<?, ?it/s]"
      ]
     },
     "metadata": {},
     "output_type": "display_data"
    },
    {
     "data": {
      "application/vnd.jupyter.widget-view+json": {
       "model_id": "2a93bf8aff874a9784d83b97765262c4",
       "version_major": 2,
       "version_minor": 0
      },
      "text/plain": [
       "sampling loop time step:   0%|          | 0/1000 [00:00<?, ?it/s]"
      ]
     },
     "metadata": {},
     "output_type": "display_data"
    },
    {
     "data": {
      "application/vnd.jupyter.widget-view+json": {
       "model_id": "95528e13f0d74ed08e23970aca24313d",
       "version_major": 2,
       "version_minor": 0
      },
      "text/plain": [
       "sampling loop time step:   0%|          | 0/1000 [00:00<?, ?it/s]"
      ]
     },
     "metadata": {},
     "output_type": "display_data"
    },
    {
     "name": "stderr",
     "output_type": "stream",
     "text": [
      " 50%|█████     | 1/2 [01:38<01:38, 98.98s/it]"
     ]
    },
    {
     "data": {
      "application/vnd.jupyter.widget-view+json": {
       "model_id": "418c3e78287f432fa2ba1c8ed61ef220",
       "version_major": 2,
       "version_minor": 0
      },
      "text/plain": [
       "sampling loop time step:   0%|          | 0/1000 [00:00<?, ?it/s]"
      ]
     },
     "metadata": {},
     "output_type": "display_data"
    },
    {
     "data": {
      "application/vnd.jupyter.widget-view+json": {
       "model_id": "7310dee299a84ac49d33dbc882557843",
       "version_major": 2,
       "version_minor": 0
      },
      "text/plain": [
       "sampling loop time step:   0%|          | 0/1000 [00:00<?, ?it/s]"
      ]
     },
     "metadata": {},
     "output_type": "display_data"
    },
    {
     "data": {
      "application/vnd.jupyter.widget-view+json": {
       "model_id": "b6b3a8ebbf564c5596e9d2358498a6cc",
       "version_major": 2,
       "version_minor": 0
      },
      "text/plain": [
       "sampling loop time step:   0%|          | 0/1000 [00:00<?, ?it/s]"
      ]
     },
     "metadata": {},
     "output_type": "display_data"
    },
    {
     "name": "stderr",
     "output_type": "stream",
     "text": [
      "100%|██████████| 2/2 [03:13<00:00, 96.93s/it]\n",
      "100%|██████████| 1000/1000 [00:06<00:00, 151.13it/s]\n"
     ]
    },
    {
     "name": "stdout",
     "output_type": "stream",
     "text": [
      "Acc for pixelate = (before) tensor([0.4080]), (after) tensor([0.5980]), improvement: tensor([0.1900])\n"
     ]
    },
    {
     "name": "stderr",
     "output_type": "stream",
     "text": [
      "  0%|          | 0/2 [00:00<?, ?it/s]"
     ]
    },
    {
     "data": {
      "application/vnd.jupyter.widget-view+json": {
       "model_id": "065be71a5c2e498db27e256947171f01",
       "version_major": 2,
       "version_minor": 0
      },
      "text/plain": [
       "sampling loop time step:   0%|          | 0/1000 [00:00<?, ?it/s]"
      ]
     },
     "metadata": {},
     "output_type": "display_data"
    },
    {
     "data": {
      "application/vnd.jupyter.widget-view+json": {
       "model_id": "23ab1d42625c4bd2a21d65355b0b6a29",
       "version_major": 2,
       "version_minor": 0
      },
      "text/plain": [
       "sampling loop time step:   0%|          | 0/1000 [00:00<?, ?it/s]"
      ]
     },
     "metadata": {},
     "output_type": "display_data"
    },
    {
     "data": {
      "application/vnd.jupyter.widget-view+json": {
       "model_id": "617d3cc518ee437282af621b99aab5c7",
       "version_major": 2,
       "version_minor": 0
      },
      "text/plain": [
       "sampling loop time step:   0%|          | 0/1000 [00:00<?, ?it/s]"
      ]
     },
     "metadata": {},
     "output_type": "display_data"
    },
    {
     "name": "stderr",
     "output_type": "stream",
     "text": [
      " 50%|█████     | 1/2 [01:38<01:38, 98.99s/it]"
     ]
    },
    {
     "data": {
      "application/vnd.jupyter.widget-view+json": {
       "model_id": "25c89fac43234725a00df1cd859e905f",
       "version_major": 2,
       "version_minor": 0
      },
      "text/plain": [
       "sampling loop time step:   0%|          | 0/1000 [00:00<?, ?it/s]"
      ]
     },
     "metadata": {},
     "output_type": "display_data"
    },
    {
     "data": {
      "application/vnd.jupyter.widget-view+json": {
       "model_id": "de25fc7a44c648018a0c8e32401a19b6",
       "version_major": 2,
       "version_minor": 0
      },
      "text/plain": [
       "sampling loop time step:   0%|          | 0/1000 [00:00<?, ?it/s]"
      ]
     },
     "metadata": {},
     "output_type": "display_data"
    },
    {
     "data": {
      "application/vnd.jupyter.widget-view+json": {
       "model_id": "4f00dc7e1c264ecb94cfae9363f47466",
       "version_major": 2,
       "version_minor": 0
      },
      "text/plain": [
       "sampling loop time step:   0%|          | 0/1000 [00:00<?, ?it/s]"
      ]
     },
     "metadata": {},
     "output_type": "display_data"
    },
    {
     "name": "stderr",
     "output_type": "stream",
     "text": [
      "100%|██████████| 2/2 [03:13<00:00, 96.93s/it]\n",
      "100%|██████████| 1000/1000 [00:06<00:00, 150.81it/s]"
     ]
    },
    {
     "name": "stdout",
     "output_type": "stream",
     "text": [
      "Acc for jpeg_compression = (before) tensor([0.7180]), (after) tensor([0.6940]), improvement: tensor([-0.0240])\n"
     ]
    },
    {
     "name": "stderr",
     "output_type": "stream",
     "text": [
      "\n"
     ]
    }
   ],
   "source": [
    "corrs = [\"clean\",\"gaussian_noise\",\"shot_noise\",\"impulse_noise\", \n",
    "        \"defocus_blur\",\"glass_blur\",\"motion_blur\",\"zoom_blur\",\n",
    "        \"snow\",\"frost\", \"fog\",\n",
    "        \"brightness\", \"contrast\",\"elastic_transform\",\"pixelate\",\"jpeg_compression\"]\n",
    "accs = {corr : [] for corr in corrs}\n",
    "aug_accs = {corr : [] for corr in corrs}\n",
    "\n",
    "og_model = load_model(model_name='Standard',dataset='cifar10',threat_model='corruptions').eval().cuda()\n",
    "og_params = OrderedDict((key, value.cpu()) for key, value in og_model.state_dict().items() if key in ['bn1.weight','bn1.bias'])\n",
    "og_params = torch.cat([param.flatten() for param in og_params.values()])\n",
    "\n",
    "for corr_i,corr in enumerate(corrs):\n",
    "    test_model = load_model(model_name='Standard',dataset='cifar10',threat_model='corruptions').eval().cuda()\n",
    "    \n",
    "    # get data for specific corruption\n",
    "    if corr == 'clean':\n",
    "        x_clean, y_clean = x_clean,y_clean = load_cifar10(1000)\n",
    "        test_ds = TensorDataset(x_clean,y_clean)\n",
    "    else:\n",
    "        train_ds, val_ds, test_ds = get_cifar10c_data([corrs[corr_i]],1000)\n",
    "        test_ds = Subset(test_ds,torch.arange(1000))\n",
    "    dl_t = DataLoader(test_ds,batch_size=512)\n",
    "\n",
    "    # add a hook to the model to get the activations right before bn\n",
    "    test_model.bn1.register_forward_hook(get_activation('bn1'))\n",
    "\n",
    "    generated_params1 = []\n",
    "    generated_params2 = []\n",
    "    generated_params3 = []\n",
    "    # for every sample, collect the activations and then pass through diff model\n",
    "    with torch.no_grad():\n",
    "        for batch_idx, (data,target) in enumerate(tqdm(dl_t)):\n",
    "            # parse the batch and send to device\n",
    "            data,target = data.to('cuda'),target.to('cuda')\n",
    "\n",
    "            # forward pass\n",
    "            out = test_model(data)\n",
    "            input_activations = activations['bn1']\n",
    "\n",
    "            # get the diffusion outputs for these embeddings\n",
    "            # cat_params = copy.deepcopy(og_params)\n",
    "            # cat_params = cat_params.unsqueeze(0).repeat(input_activations.shape[0], 1)\n",
    "            # input_activations = torch.cat([input_activations,cat_params.cuda()],dim=1)\n",
    "            generated_params1.append(trainer.model.sample(input_activations, cond_scale=3.))\n",
    "            generated_params2.append(trainer.model.sample(input_activations, cond_scale=3.))\n",
    "            generated_params3.append(trainer.model.sample(input_activations, cond_scale=3.))\n",
    "\n",
    "    generated_params1 = torch.cat(generated_params1)\n",
    "    generated_params2 = torch.cat(generated_params2)\n",
    "    generated_params3 = torch.cat(generated_params3)\n",
    "    gps = [generated_params1,generated_params2,generated_params3]\n",
    "    \n",
    "    dl_t = DataLoader(test_ds,batch_size=1)\n",
    "    num_correct = 0\n",
    "    aug_num_correct = 0\n",
    "    total = 0\n",
    "    aug_model = copy.deepcopy(test_model)\n",
    "    with torch.no_grad():\n",
    "        for batch_idx, (data,target) in enumerate(tqdm(dl_t)):\n",
    "            data,target = data.to('cuda'),target.to('cuda')\n",
    "\n",
    "            # og model\n",
    "            out = test_model(data)\n",
    "            pred = out.argmax(dim=1).to('cpu')\n",
    "            num_correct += (pred == target.to('cpu'))\n",
    "\n",
    "            # aug model\n",
    "            ens_preds = []\n",
    "            for ens_i in range(3):\n",
    "                params = gps[ens_i][batch_idx]\n",
    "                aug_model = put_back_params(aug_model,params)\n",
    "                aug_model = aug_model.eval()\n",
    "\n",
    "                out = F.softmax(aug_model(data),dim=1)\n",
    "                ens_preds.append(out)\n",
    "            ens_pred = torch.mean(torch.cat(ens_preds,dim=0),dim=0)\n",
    "            pred = ens_pred.argmax().to('cpu')\n",
    "            aug_num_correct += (pred == target.to('cpu'))\n",
    "            total += 1\n",
    "\n",
    "    acc = num_correct/total\n",
    "    aug_acc = aug_num_correct/total\n",
    "    \n",
    "    print(f\"Acc for {corr} = (before) {acc}, (after) {aug_acc}, improvement: {aug_acc-acc}\")\n",
    "    accs[corr].append(acc.item())\n",
    "    aug_accs[corr].append(aug_acc.item())"
   ]
  },
  {
   "cell_type": "code",
   "execution_count": 12,
   "metadata": {},
   "outputs": [
    {
     "data": {
      "text/plain": [
       "(-0.1, 0.3)"
      ]
     },
     "execution_count": 12,
     "metadata": {},
     "output_type": "execute_result"
    },
    {
     "data": {
      "image/png": "[encoded data removed]",
      "text/plain": [
       "<Figure size 1200x500 with 16 Axes>"
      ]
     },
     "metadata": {},
     "output_type": "display_data"
    }
   ],
   "source": [
    "eval_results = copy.deepcopy(accs)\n",
    "for corr in corrs[1:]:\n",
    "    eval_results[corr] = aug_accs[corr][0]-accs[corr][0]\n",
    "\n",
    "fig,ax = plt.subplot_mosaic([['bar']*15,#['bar','bar','bar','bar','bar','bar'],\n",
    "                             CORRUPTIONS],\n",
    "                             #['clean','frost','gaussian_noise','glass_blur','contrast','pixelate']],\n",
    "                            figsize=(12,5))\n",
    "x = list(eval_results.keys())\n",
    "y = list(eval_results.values())\n",
    "\n",
    "#corrs = ['clean','frost','gaussian_noise','glass_blur','contrast','pixelate']\n",
    "corrs = CORRUPTIONS\n",
    "for corr, val, in zip(x,y):\n",
    "    if corr in corrs:\n",
    "        ax['bar'].bar(corr,val)#,width = 0.75,align='center')\n",
    "        # ax['bar'].set_xticks(corrs,corrs,fontsize=14, fontweight='bold')\n",
    "        # ax['bar'].set_yticks(corrs,corrs,fontsize=14, fontweight='bold')\n",
    "        margin = (1 - 0.1) + 0.1 / 2\n",
    "        ax['bar'].set_xlim(-margin+0.5, 16 - 1 + margin-0.5)\n",
    "        # if corr == 'clean':\n",
    "        #     ax[corr].imshow(x_clean[10].permute(1,2,0))\n",
    "        # else:\n",
    "        #     idx = CORRUPTIONS.index(corr)\n",
    "            # ax[corr].imshow(x_corr[10+10000*idx].permute(1,2,0))\n",
    "        ax[corr].set_xticks([])\n",
    "        ax[corr].set_yticks([])\n",
    "        ax['bar'].tick_params(axis='x', rotation=35)\n",
    "ax['bar'].grid()\n",
    "ax['bar'].set_axisbelow(True)\n",
    "ax['bar'].set_ylabel(\"Test Accuracy\",fontsize=12,fontweight='bold')\n",
    "ax['bar'].set_title(\"CIFAR10 Image Classification\",fontsize=16,fontweight='bold')\n",
    "ax['bar'].set_ylim((-0.1,0.30))"
   ]
  }
 ],
 "metadata": {
  "kernelspec": {
   "display_name": "ttda",
   "language": "python",
   "name": "python3"
  },
  "language_info": {
   "codemirror_mode": {
    "name": "ipython",
    "version": 3
   },
   "file_extension": ".py",
   "mimetype": "text/x-python",
   "name": "python",
   "nbconvert_exporter": "python",
   "pygments_lexer": "ipython3",
   "version": "3.9.17"
  }
 },
 "nbformat": 4,
 "nbformat_minor": 2
}
